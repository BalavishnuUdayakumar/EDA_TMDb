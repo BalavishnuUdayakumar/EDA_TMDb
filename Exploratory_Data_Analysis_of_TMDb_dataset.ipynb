{
 "cells": [
  {
   "cell_type": "markdown",
   "id": "c472e14b",
   "metadata": {},
   "source": [
    "# <u><h1><center><font color = darkgreen>INVESTIGATION OF TMDb MOVIE DATA</font></center></h1></u>\n",
    "### This data set contains information about 10,000 movies collected from The Movie Database (TMDb), including user ratings and revenue. "
   ]
  },
  {
   "cell_type": "markdown",
   "id": "e367651d",
   "metadata": {},
   "source": [
    "<a id='aim'></a>\n",
    "## <u><font color = red>AIM</font></u>\n",
    "### To investigate the TMDb movie data and answer the following questions through exploratory data analysis.\n",
    "\n",
    "\n",
    "## <font color = magenta><u>Questions</u>:</font>\n",
    "### <font color = magenta>Q1. Which are the three most and least popular genres of each decade?</font>  \n",
    "### <font color = magenta>Q2. What characteristics distinguish the top 10% profitable movies (all time) from the bottom 10% ?</font>"
   ]
  },
  {
   "cell_type": "markdown",
   "id": "afcb1d38",
   "metadata": {},
   "source": [
    "<a id='step1'></a>\n",
    "### <font color = magenta><u>Step 1</u>:</font>  Create a pandas Dataframe (\"tmd\") to export the provided TMDb movie data csv file. "
   ]
  },
  {
   "cell_type": "code",
   "execution_count": 14,
   "id": "ffc0aba7",
   "metadata": {},
   "outputs": [],
   "source": [
    "# import packages\n",
    "\n",
    "import pandas as pd\n",
    "import numpy as np\n",
    "import matplotlib.pyplot as plt\n",
    "import seaborn as sns\n",
    "\n",
    "# display plots within the notebook\n",
    "%matplotlib inline \n",
    "\n",
    "# to make plots interactive\n",
    "# %matplotlib notebook\n",
    "\n",
    "# style of plot\n",
    "plt.style.use('ggplot')\n",
    "\n",
    "# to display outputs of all executed lines within a cell\n",
    "from IPython.core.interactiveshell import InteractiveShell\n",
    "InteractiveShell.ast_node_interactivity = \"all\" \n",
    "\n",
    "# to generate high quality plots\n",
    "%config InlineBackend.figure_formats = ['svg']\n",
    "\n",
    "sns.set(rc={\"figure.dpi\":100, 'savefig.dpi':300})\n",
    "sns.set_context('notebook')\n",
    "sns.set_style(\"ticks\")"
   ]
  },
  {
   "cell_type": "code",
   "execution_count": 15,
   "id": "4725ae28",
   "metadata": {},
   "outputs": [],
   "source": [
    "# create a pandas Dataframe (table) \n",
    "\n",
    "tmd = pd.read_csv('tmdb-movies.csv')"
   ]
  }
 ],
 "metadata": {
  "kernelspec": {
   "display_name": "Python 3 (ipykernel)",
   "language": "python",
   "name": "python3"
  },
  "language_info": {
   "codemirror_mode": {
    "name": "ipython",
    "version": 3
   },
   "file_extension": ".py",
   "mimetype": "text/x-python",
   "name": "python",
   "nbconvert_exporter": "python",
   "pygments_lexer": "ipython3",
   "version": "3.9.13"
  }
 },
 "nbformat": 4,
 "nbformat_minor": 5
}
