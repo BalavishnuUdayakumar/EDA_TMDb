{
 "cells": [
  {
   "cell_type": "markdown",
   "id": "01c127a4",
   "metadata": {},
   "source": [
    "# <u><h1><center><font color = darkgreen>INVESTIGATION OF TMDb MOVIE DATA</font></center></h1></u>\n",
    "### This data set contains information about 10,000 movies collected from The Movie Database (TMDb), including user ratings and revenue. "
   ]
  },
  {
   "cell_type": "markdown",
   "id": "bebecbfb",
   "metadata": {},
   "source": [
    "<a id='aim'></a>\n",
    "## <u><font color = red>AIM</font></u>\n",
    "### To investigate the TMDb movie data and answer the following questions through exploratory data analysis.\n",
    "\n",
    "\n",
    "## <font color = magenta><u>Questions</u>:</font>\n",
    "### <font color = magenta>Q1. Which are the three most and least popular genres of each decade?</font>  \n",
    "### <font color = magenta>Q2. What characteristics distinguish the top 10% profitable movies (all time) from the bottom 10% ?</font>"
   ]
  }
 ],
 "metadata": {
  "kernelspec": {
   "display_name": "Python 3 (ipykernel)",
   "language": "python",
   "name": "python3"
  },
  "language_info": {
   "codemirror_mode": {
    "name": "ipython",
    "version": 3
   },
   "file_extension": ".py",
   "mimetype": "text/x-python",
   "name": "python",
   "nbconvert_exporter": "python",
   "pygments_lexer": "ipython3",
   "version": "3.9.13"
  }
 },
 "nbformat": 4,
 "nbformat_minor": 5
}
