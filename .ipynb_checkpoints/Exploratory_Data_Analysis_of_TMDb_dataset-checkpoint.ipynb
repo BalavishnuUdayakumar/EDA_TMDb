{
 "cells": [
  {
   "cell_type": "markdown",
   "id": "1fc9eade",
   "metadata": {},
   "source": [
    "# <u><h1><center><font color = darkgreen>INVESTIGATION OF TMDb MOVIE DATA</font></center></h1></u>\n",
    "### This data set contains information about 10,000 movies collected from The Movie Database (TMDb), including user ratings and revenue. "
   ]
  },
  {
   "cell_type": "markdown",
   "id": "a1b56890",
   "metadata": {},
   "source": [
    "# <u><font color = brown>CONTENTS:</font></u>\n",
    "## 1. <a href=\"#aim\"><font color = red>AIM</font></a>\n",
    "## 2. <a href=\"#clean\"><font color = red>CLEANING DATA</font></a>\n",
    "## 3. <a href=\"#explor\"><font color = red>EXPLORATORY ANALYSIS</font></a>\n",
    "## 4. <a href=\"#concl\"><font color = red>CONCLUSIONS</font></a>\n",
    "## 5. <a href=\"#lim_n_fu\"><font color = red>LIMITATIONS AND FUTURE WORK</font></a>"
   ]
  },
  {
   "cell_type": "markdown",
   "id": "bd251a76",
   "metadata": {},
   "source": [
    "<a id='aim'></a>\n",
    "## 1. <u><font color = red>AIM</font></u>\n",
    "### To investigate the TMDb movie data and answer the following questions through exploratory data analysis.\n",
    "\n",
    "\n",
    "## <font color = magenta><u>Questions</u>:</font>\n",
    "### <font color = magenta>Q1. Which are the three most and least popular genres of each decade?</font>  \n",
    "### <font color = magenta>Q2. What characteristics distinguish the top 10% profitable movies (all time) from the bottom 10% ?</font>"
   ]
  },
  {
   "cell_type": "markdown",
   "id": "243c878f",
   "metadata": {},
   "source": [
    "<a id='step1'></a>\n",
    "### <font color = magenta><u>Step 1</u>:</font>  Create a pandas Dataframe (\"tmd\") to export the provided TMDb movie data csv file. "
   ]
  },
  {
   "cell_type": "code",
   "execution_count": 1,
   "id": "cee95567",
   "metadata": {},
   "outputs": [],
   "source": [
    "# import packages\n",
    "\n",
    "import pandas as pd\n",
    "import numpy as np\n",
    "import matplotlib.pyplot as plt\n",
    "import seaborn as sns\n",
    "\n",
    "# display plots within the notebook\n",
    "%matplotlib inline \n",
    "\n",
    "# to make plots interactive\n",
    "# %matplotlib notebook\n",
    "\n",
    "# style of plot\n",
    "plt.style.use('ggplot')\n",
    "\n",
    "# to display outputs of all executed lines within a cell\n",
    "from IPython.core.interactiveshell import InteractiveShell\n",
    "InteractiveShell.ast_node_interactivity = \"all\" \n",
    "\n",
    "# to generate high quality plots\n",
    "%config InlineBackend.figure_formats = ['svg']\n",
    "\n",
    "sns.set(rc={\"figure.dpi\":100, 'savefig.dpi':300})\n",
    "sns.set_context('notebook')\n",
    "sns.set_style(\"ticks\")"
   ]
  },
  {
   "cell_type": "code",
   "execution_count": 2,
   "id": "c74f84ea",
   "metadata": {},
   "outputs": [],
   "source": [
    "# create a pandas Dataframe (table) \n",
    "\n",
    "tmd = pd.read_csv('tmdb-movies.csv')"
   ]
  },
  {
   "cell_type": "markdown",
   "id": "69c5850b",
   "metadata": {},
   "source": [
    "<a id='step2'></a>\n",
    "### <font color = magenta><u>Step 2</u>:</font> Conduct a preliminary exploration of the table (\"tmd\")."
   ]
  },
  {
   "cell_type": "code",
   "execution_count": 3,
   "id": "b59cc51a",
   "metadata": {},
   "outputs": [
    {
     "name": "stdout",
     "output_type": "stream",
     "text": [
      "\u001b[4m\u001b[1mBasic information about \"tmd\" is provided in this step\u001b[0m\u001b[0m :\n"
     ]
    }
   ],
   "source": [
    "# Basic details about \"tmd\" contents are studied\n",
    "\n",
    "print('\\033[4m' +'\\033[1m' + 'Basic information about \"tmd\" is provided in this step' \\\n",
    "      + '\\033[0m' + '\\033[0m' + ' :')"
   ]
  },
  {
   "cell_type": "code",
   "execution_count": 4,
   "id": "6a56c817",
   "metadata": {},
   "outputs": [
    {
     "name": "stdout",
     "output_type": "stream",
     "text": [
      "\u001b[4m\u001b[1mFirst three rows of \"tmd\"\u001b[0m\u001b[0m :\n"
     ]
    },
    {
     "data": {
      "text/html": [
       "<div>\n",
       "<style scoped>\n",
       "    .dataframe tbody tr th:only-of-type {\n",
       "        vertical-align: middle;\n",
       "    }\n",
       "\n",
       "    .dataframe tbody tr th {\n",
       "        vertical-align: top;\n",
       "    }\n",
       "\n",
       "    .dataframe thead th {\n",
       "        text-align: right;\n",
       "    }\n",
       "</style>\n",
       "<table border=\"1\" class=\"dataframe\">\n",
       "  <thead>\n",
       "    <tr style=\"text-align: right;\">\n",
       "      <th></th>\n",
       "      <th>id</th>\n",
       "      <th>imdb_id</th>\n",
       "      <th>popularity</th>\n",
       "      <th>budget</th>\n",
       "      <th>revenue</th>\n",
       "      <th>original_title</th>\n",
       "      <th>cast</th>\n",
       "      <th>homepage</th>\n",
       "      <th>director</th>\n",
       "      <th>tagline</th>\n",
       "      <th>...</th>\n",
       "      <th>overview</th>\n",
       "      <th>runtime</th>\n",
       "      <th>genres</th>\n",
       "      <th>production_companies</th>\n",
       "      <th>release_date</th>\n",
       "      <th>vote_count</th>\n",
       "      <th>vote_average</th>\n",
       "      <th>release_year</th>\n",
       "      <th>budget_adj</th>\n",
       "      <th>revenue_adj</th>\n",
       "    </tr>\n",
       "  </thead>\n",
       "  <tbody>\n",
       "    <tr>\n",
       "      <th>0</th>\n",
       "      <td>135397</td>\n",
       "      <td>tt0369610</td>\n",
       "      <td>32.985763</td>\n",
       "      <td>150000000</td>\n",
       "      <td>1513528810</td>\n",
       "      <td>Jurassic World</td>\n",
       "      <td>Chris Pratt|Bryce Dallas Howard|Irrfan Khan|Vi...</td>\n",
       "      <td>http://www.jurassicworld.com/</td>\n",
       "      <td>Colin Trevorrow</td>\n",
       "      <td>The park is open.</td>\n",
       "      <td>...</td>\n",
       "      <td>Twenty-two years after the events of Jurassic ...</td>\n",
       "      <td>124</td>\n",
       "      <td>Action|Adventure|Science Fiction|Thriller</td>\n",
       "      <td>Universal Studios|Amblin Entertainment|Legenda...</td>\n",
       "      <td>6/9/15</td>\n",
       "      <td>5562</td>\n",
       "      <td>6.5</td>\n",
       "      <td>2015</td>\n",
       "      <td>1.379999e+08</td>\n",
       "      <td>1.392446e+09</td>\n",
       "    </tr>\n",
       "    <tr>\n",
       "      <th>1</th>\n",
       "      <td>76341</td>\n",
       "      <td>tt1392190</td>\n",
       "      <td>28.419936</td>\n",
       "      <td>150000000</td>\n",
       "      <td>378436354</td>\n",
       "      <td>Mad Max: Fury Road</td>\n",
       "      <td>Tom Hardy|Charlize Theron|Hugh Keays-Byrne|Nic...</td>\n",
       "      <td>http://www.madmaxmovie.com/</td>\n",
       "      <td>George Miller</td>\n",
       "      <td>What a Lovely Day.</td>\n",
       "      <td>...</td>\n",
       "      <td>An apocalyptic story set in the furthest reach...</td>\n",
       "      <td>120</td>\n",
       "      <td>Action|Adventure|Science Fiction|Thriller</td>\n",
       "      <td>Village Roadshow Pictures|Kennedy Miller Produ...</td>\n",
       "      <td>5/13/15</td>\n",
       "      <td>6185</td>\n",
       "      <td>7.1</td>\n",
       "      <td>2015</td>\n",
       "      <td>1.379999e+08</td>\n",
       "      <td>3.481613e+08</td>\n",
       "    </tr>\n",
       "    <tr>\n",
       "      <th>2</th>\n",
       "      <td>262500</td>\n",
       "      <td>tt2908446</td>\n",
       "      <td>13.112507</td>\n",
       "      <td>110000000</td>\n",
       "      <td>295238201</td>\n",
       "      <td>Insurgent</td>\n",
       "      <td>Shailene Woodley|Theo James|Kate Winslet|Ansel...</td>\n",
       "      <td>http://www.thedivergentseries.movie/#insurgent</td>\n",
       "      <td>Robert Schwentke</td>\n",
       "      <td>One Choice Can Destroy You</td>\n",
       "      <td>...</td>\n",
       "      <td>Beatrice Prior must confront her inner demons ...</td>\n",
       "      <td>119</td>\n",
       "      <td>Adventure|Science Fiction|Thriller</td>\n",
       "      <td>Summit Entertainment|Mandeville Films|Red Wago...</td>\n",
       "      <td>3/18/15</td>\n",
       "      <td>2480</td>\n",
       "      <td>6.3</td>\n",
       "      <td>2015</td>\n",
       "      <td>1.012000e+08</td>\n",
       "      <td>2.716190e+08</td>\n",
       "    </tr>\n",
       "  </tbody>\n",
       "</table>\n",
       "<p>3 rows × 21 columns</p>\n",
       "</div>"
      ],
      "text/plain": [
       "       id    imdb_id  popularity     budget     revenue      original_title  \\\n",
       "0  135397  tt0369610   32.985763  150000000  1513528810      Jurassic World   \n",
       "1   76341  tt1392190   28.419936  150000000   378436354  Mad Max: Fury Road   \n",
       "2  262500  tt2908446   13.112507  110000000   295238201           Insurgent   \n",
       "\n",
       "                                                cast  \\\n",
       "0  Chris Pratt|Bryce Dallas Howard|Irrfan Khan|Vi...   \n",
       "1  Tom Hardy|Charlize Theron|Hugh Keays-Byrne|Nic...   \n",
       "2  Shailene Woodley|Theo James|Kate Winslet|Ansel...   \n",
       "\n",
       "                                         homepage          director  \\\n",
       "0                   http://www.jurassicworld.com/   Colin Trevorrow   \n",
       "1                     http://www.madmaxmovie.com/     George Miller   \n",
       "2  http://www.thedivergentseries.movie/#insurgent  Robert Schwentke   \n",
       "\n",
       "                      tagline  ...  \\\n",
       "0           The park is open.  ...   \n",
       "1          What a Lovely Day.  ...   \n",
       "2  One Choice Can Destroy You  ...   \n",
       "\n",
       "                                            overview runtime  \\\n",
       "0  Twenty-two years after the events of Jurassic ...     124   \n",
       "1  An apocalyptic story set in the furthest reach...     120   \n",
       "2  Beatrice Prior must confront her inner demons ...     119   \n",
       "\n",
       "                                      genres  \\\n",
       "0  Action|Adventure|Science Fiction|Thriller   \n",
       "1  Action|Adventure|Science Fiction|Thriller   \n",
       "2         Adventure|Science Fiction|Thriller   \n",
       "\n",
       "                                production_companies release_date vote_count  \\\n",
       "0  Universal Studios|Amblin Entertainment|Legenda...       6/9/15       5562   \n",
       "1  Village Roadshow Pictures|Kennedy Miller Produ...      5/13/15       6185   \n",
       "2  Summit Entertainment|Mandeville Films|Red Wago...      3/18/15       2480   \n",
       "\n",
       "   vote_average  release_year    budget_adj   revenue_adj  \n",
       "0           6.5          2015  1.379999e+08  1.392446e+09  \n",
       "1           7.1          2015  1.379999e+08  3.481613e+08  \n",
       "2           6.3          2015  1.012000e+08  2.716190e+08  \n",
       "\n",
       "[3 rows x 21 columns]"
      ]
     },
     "execution_count": 4,
     "metadata": {},
     "output_type": "execute_result"
    },
    {
     "name": "stdout",
     "output_type": "stream",
     "text": [
      "\u001b[4m\u001b[1mLast three rows of \"tmd\"\u001b[0m\u001b[0m :\n"
     ]
    },
    {
     "data": {
      "text/html": [
       "<div>\n",
       "<style scoped>\n",
       "    .dataframe tbody tr th:only-of-type {\n",
       "        vertical-align: middle;\n",
       "    }\n",
       "\n",
       "    .dataframe tbody tr th {\n",
       "        vertical-align: top;\n",
       "    }\n",
       "\n",
       "    .dataframe thead th {\n",
       "        text-align: right;\n",
       "    }\n",
       "</style>\n",
       "<table border=\"1\" class=\"dataframe\">\n",
       "  <thead>\n",
       "    <tr style=\"text-align: right;\">\n",
       "      <th></th>\n",
       "      <th>id</th>\n",
       "      <th>imdb_id</th>\n",
       "      <th>popularity</th>\n",
       "      <th>budget</th>\n",
       "      <th>revenue</th>\n",
       "      <th>original_title</th>\n",
       "      <th>cast</th>\n",
       "      <th>homepage</th>\n",
       "      <th>director</th>\n",
       "      <th>tagline</th>\n",
       "      <th>...</th>\n",
       "      <th>overview</th>\n",
       "      <th>runtime</th>\n",
       "      <th>genres</th>\n",
       "      <th>production_companies</th>\n",
       "      <th>release_date</th>\n",
       "      <th>vote_count</th>\n",
       "      <th>vote_average</th>\n",
       "      <th>release_year</th>\n",
       "      <th>budget_adj</th>\n",
       "      <th>revenue_adj</th>\n",
       "    </tr>\n",
       "  </thead>\n",
       "  <tbody>\n",
       "    <tr>\n",
       "      <th>10863</th>\n",
       "      <td>39768</td>\n",
       "      <td>tt0060161</td>\n",
       "      <td>0.065141</td>\n",
       "      <td>0</td>\n",
       "      <td>0</td>\n",
       "      <td>Beregis Avtomobilya</td>\n",
       "      <td>Innokentiy Smoktunovskiy|Oleg Efremov|Georgi Z...</td>\n",
       "      <td>NaN</td>\n",
       "      <td>Eldar Ryazanov</td>\n",
       "      <td>NaN</td>\n",
       "      <td>...</td>\n",
       "      <td>An insurance agent who moonlights as a carthie...</td>\n",
       "      <td>94</td>\n",
       "      <td>Mystery|Comedy</td>\n",
       "      <td>Mosfilm</td>\n",
       "      <td>1/1/66</td>\n",
       "      <td>11</td>\n",
       "      <td>6.5</td>\n",
       "      <td>1966</td>\n",
       "      <td>0.000000</td>\n",
       "      <td>0.0</td>\n",
       "    </tr>\n",
       "    <tr>\n",
       "      <th>10864</th>\n",
       "      <td>21449</td>\n",
       "      <td>tt0061177</td>\n",
       "      <td>0.064317</td>\n",
       "      <td>0</td>\n",
       "      <td>0</td>\n",
       "      <td>What's Up, Tiger Lily?</td>\n",
       "      <td>Tatsuya Mihashi|Akiko Wakabayashi|Mie Hama|Joh...</td>\n",
       "      <td>NaN</td>\n",
       "      <td>Woody Allen</td>\n",
       "      <td>WOODY ALLEN STRIKES BACK!</td>\n",
       "      <td>...</td>\n",
       "      <td>In comic Woody Allen's film debut, he took the...</td>\n",
       "      <td>80</td>\n",
       "      <td>Action|Comedy</td>\n",
       "      <td>Benedict Pictures Corp.</td>\n",
       "      <td>11/2/66</td>\n",
       "      <td>22</td>\n",
       "      <td>5.4</td>\n",
       "      <td>1966</td>\n",
       "      <td>0.000000</td>\n",
       "      <td>0.0</td>\n",
       "    </tr>\n",
       "    <tr>\n",
       "      <th>10865</th>\n",
       "      <td>22293</td>\n",
       "      <td>tt0060666</td>\n",
       "      <td>0.035919</td>\n",
       "      <td>19000</td>\n",
       "      <td>0</td>\n",
       "      <td>Manos: The Hands of Fate</td>\n",
       "      <td>Harold P. Warren|Tom Neyman|John Reynolds|Dian...</td>\n",
       "      <td>NaN</td>\n",
       "      <td>Harold P. Warren</td>\n",
       "      <td>It's Shocking! It's Beyond Your Imagination!</td>\n",
       "      <td>...</td>\n",
       "      <td>A family gets lost on the road and stumbles up...</td>\n",
       "      <td>74</td>\n",
       "      <td>Horror</td>\n",
       "      <td>Norm-Iris</td>\n",
       "      <td>11/15/66</td>\n",
       "      <td>15</td>\n",
       "      <td>1.5</td>\n",
       "      <td>1966</td>\n",
       "      <td>127642.279154</td>\n",
       "      <td>0.0</td>\n",
       "    </tr>\n",
       "  </tbody>\n",
       "</table>\n",
       "<p>3 rows × 21 columns</p>\n",
       "</div>"
      ],
      "text/plain": [
       "          id    imdb_id  popularity  budget  revenue  \\\n",
       "10863  39768  tt0060161    0.065141       0        0   \n",
       "10864  21449  tt0061177    0.064317       0        0   \n",
       "10865  22293  tt0060666    0.035919   19000        0   \n",
       "\n",
       "                 original_title  \\\n",
       "10863       Beregis Avtomobilya   \n",
       "10864    What's Up, Tiger Lily?   \n",
       "10865  Manos: The Hands of Fate   \n",
       "\n",
       "                                                    cast homepage  \\\n",
       "10863  Innokentiy Smoktunovskiy|Oleg Efremov|Georgi Z...      NaN   \n",
       "10864  Tatsuya Mihashi|Akiko Wakabayashi|Mie Hama|Joh...      NaN   \n",
       "10865  Harold P. Warren|Tom Neyman|John Reynolds|Dian...      NaN   \n",
       "\n",
       "               director                                       tagline  ...  \\\n",
       "10863    Eldar Ryazanov                                           NaN  ...   \n",
       "10864       Woody Allen                     WOODY ALLEN STRIKES BACK!  ...   \n",
       "10865  Harold P. Warren  It's Shocking! It's Beyond Your Imagination!  ...   \n",
       "\n",
       "                                                overview runtime  \\\n",
       "10863  An insurance agent who moonlights as a carthie...      94   \n",
       "10864  In comic Woody Allen's film debut, he took the...      80   \n",
       "10865  A family gets lost on the road and stumbles up...      74   \n",
       "\n",
       "               genres     production_companies release_date vote_count  \\\n",
       "10863  Mystery|Comedy                  Mosfilm       1/1/66         11   \n",
       "10864   Action|Comedy  Benedict Pictures Corp.      11/2/66         22   \n",
       "10865          Horror                Norm-Iris     11/15/66         15   \n",
       "\n",
       "       vote_average  release_year     budget_adj  revenue_adj  \n",
       "10863           6.5          1966       0.000000          0.0  \n",
       "10864           5.4          1966       0.000000          0.0  \n",
       "10865           1.5          1966  127642.279154          0.0  \n",
       "\n",
       "[3 rows x 21 columns]"
      ]
     },
     "execution_count": 4,
     "metadata": {},
     "output_type": "execute_result"
    }
   ],
   "source": [
    "# display the first and last three rows of tmd\n",
    "\n",
    "print('\\033[4m' +'\\033[1m' + 'First three rows of \"tmd\"' + '\\033[0m' + '\\033[0m' + ' :')\n",
    "\n",
    "tmd.head(3)\n",
    "\n",
    "print('\\033[4m' +'\\033[1m' + 'Last three rows of \"tmd\"' + '\\033[0m' + '\\033[0m' + ' :')\n",
    "\n",
    "tmd.tail(3)"
   ]
  },
  {
   "cell_type": "code",
   "execution_count": 5,
   "id": "30d0be32",
   "metadata": {},
   "outputs": [
    {
     "name": "stdout",
     "output_type": "stream",
     "text": [
      "\u001b[4m\u001b[1mRange of row index, column index and name, data type,       and number of non-null values in \"tmd\"\u001b[0m\u001b[0m :\n",
      "<class 'pandas.core.frame.DataFrame'>\n",
      "RangeIndex: 10866 entries, 0 to 10865\n",
      "Data columns (total 21 columns):\n",
      " #   Column                Non-Null Count  Dtype  \n",
      "---  ------                --------------  -----  \n",
      " 0   id                    10866 non-null  int64  \n",
      " 1   imdb_id               10856 non-null  object \n",
      " 2   popularity            10866 non-null  float64\n",
      " 3   budget                10866 non-null  int64  \n",
      " 4   revenue               10866 non-null  int64  \n",
      " 5   original_title        10866 non-null  object \n",
      " 6   cast                  10790 non-null  object \n",
      " 7   homepage              2936 non-null   object \n",
      " 8   director              10822 non-null  object \n",
      " 9   tagline               8042 non-null   object \n",
      " 10  keywords              9373 non-null   object \n",
      " 11  overview              10862 non-null  object \n",
      " 12  runtime               10866 non-null  int64  \n",
      " 13  genres                10843 non-null  object \n",
      " 14  production_companies  9836 non-null   object \n",
      " 15  release_date          10866 non-null  object \n",
      " 16  vote_count            10866 non-null  int64  \n",
      " 17  vote_average          10866 non-null  float64\n",
      " 18  release_year          10866 non-null  int64  \n",
      " 19  budget_adj            10866 non-null  float64\n",
      " 20  revenue_adj           10866 non-null  float64\n",
      "dtypes: float64(4), int64(6), object(11)\n",
      "memory usage: 1.7+ MB\n"
     ]
    }
   ],
   "source": [
    "# display range of row index, column index and name, data type, and number of non-null values \n",
    "\n",
    "print('\\033[4m' +'\\033[1m' + 'Range of row index, column index and name, data type, \\\n",
    "      and number of non-null values in \"tmd\"' + '\\033[0m' + '\\033[0m' + ' :')\n",
    "\n",
    "tmd.info()"
   ]
  },
  {
   "cell_type": "code",
   "execution_count": 6,
   "id": "e6229323",
   "metadata": {},
   "outputs": [
    {
     "name": "stdout",
     "output_type": "stream",
     "text": [
      "\u001b[4m\u001b[1mSummary statistics of \"tmd\"\u001b[0m\u001b[0m :\n"
     ]
    },
    {
     "data": {
      "text/html": [
       "<div>\n",
       "<style scoped>\n",
       "    .dataframe tbody tr th:only-of-type {\n",
       "        vertical-align: middle;\n",
       "    }\n",
       "\n",
       "    .dataframe tbody tr th {\n",
       "        vertical-align: top;\n",
       "    }\n",
       "\n",
       "    .dataframe thead th {\n",
       "        text-align: right;\n",
       "    }\n",
       "</style>\n",
       "<table border=\"1\" class=\"dataframe\">\n",
       "  <thead>\n",
       "    <tr style=\"text-align: right;\">\n",
       "      <th></th>\n",
       "      <th>id</th>\n",
       "      <th>popularity</th>\n",
       "      <th>budget</th>\n",
       "      <th>revenue</th>\n",
       "      <th>runtime</th>\n",
       "      <th>vote_count</th>\n",
       "      <th>vote_average</th>\n",
       "      <th>release_year</th>\n",
       "      <th>budget_adj</th>\n",
       "      <th>revenue_adj</th>\n",
       "    </tr>\n",
       "  </thead>\n",
       "  <tbody>\n",
       "    <tr>\n",
       "      <th>count</th>\n",
       "      <td>10866.000000</td>\n",
       "      <td>10866.000000</td>\n",
       "      <td>1.086600e+04</td>\n",
       "      <td>1.086600e+04</td>\n",
       "      <td>10866.000000</td>\n",
       "      <td>10866.000000</td>\n",
       "      <td>10866.000000</td>\n",
       "      <td>10866.000000</td>\n",
       "      <td>1.086600e+04</td>\n",
       "      <td>1.086600e+04</td>\n",
       "    </tr>\n",
       "    <tr>\n",
       "      <th>mean</th>\n",
       "      <td>66064.177434</td>\n",
       "      <td>0.646441</td>\n",
       "      <td>1.462570e+07</td>\n",
       "      <td>3.982332e+07</td>\n",
       "      <td>102.070863</td>\n",
       "      <td>217.389748</td>\n",
       "      <td>5.974922</td>\n",
       "      <td>2001.322658</td>\n",
       "      <td>1.755104e+07</td>\n",
       "      <td>5.136436e+07</td>\n",
       "    </tr>\n",
       "    <tr>\n",
       "      <th>std</th>\n",
       "      <td>92130.136561</td>\n",
       "      <td>1.000185</td>\n",
       "      <td>3.091321e+07</td>\n",
       "      <td>1.170035e+08</td>\n",
       "      <td>31.381405</td>\n",
       "      <td>575.619058</td>\n",
       "      <td>0.935142</td>\n",
       "      <td>12.812941</td>\n",
       "      <td>3.430616e+07</td>\n",
       "      <td>1.446325e+08</td>\n",
       "    </tr>\n",
       "    <tr>\n",
       "      <th>min</th>\n",
       "      <td>5.000000</td>\n",
       "      <td>0.000065</td>\n",
       "      <td>0.000000e+00</td>\n",
       "      <td>0.000000e+00</td>\n",
       "      <td>0.000000</td>\n",
       "      <td>10.000000</td>\n",
       "      <td>1.500000</td>\n",
       "      <td>1960.000000</td>\n",
       "      <td>0.000000e+00</td>\n",
       "      <td>0.000000e+00</td>\n",
       "    </tr>\n",
       "    <tr>\n",
       "      <th>25%</th>\n",
       "      <td>10596.250000</td>\n",
       "      <td>0.207583</td>\n",
       "      <td>0.000000e+00</td>\n",
       "      <td>0.000000e+00</td>\n",
       "      <td>90.000000</td>\n",
       "      <td>17.000000</td>\n",
       "      <td>5.400000</td>\n",
       "      <td>1995.000000</td>\n",
       "      <td>0.000000e+00</td>\n",
       "      <td>0.000000e+00</td>\n",
       "    </tr>\n",
       "    <tr>\n",
       "      <th>50%</th>\n",
       "      <td>20669.000000</td>\n",
       "      <td>0.383856</td>\n",
       "      <td>0.000000e+00</td>\n",
       "      <td>0.000000e+00</td>\n",
       "      <td>99.000000</td>\n",
       "      <td>38.000000</td>\n",
       "      <td>6.000000</td>\n",
       "      <td>2006.000000</td>\n",
       "      <td>0.000000e+00</td>\n",
       "      <td>0.000000e+00</td>\n",
       "    </tr>\n",
       "    <tr>\n",
       "      <th>75%</th>\n",
       "      <td>75610.000000</td>\n",
       "      <td>0.713817</td>\n",
       "      <td>1.500000e+07</td>\n",
       "      <td>2.400000e+07</td>\n",
       "      <td>111.000000</td>\n",
       "      <td>145.750000</td>\n",
       "      <td>6.600000</td>\n",
       "      <td>2011.000000</td>\n",
       "      <td>2.085325e+07</td>\n",
       "      <td>3.369710e+07</td>\n",
       "    </tr>\n",
       "    <tr>\n",
       "      <th>max</th>\n",
       "      <td>417859.000000</td>\n",
       "      <td>32.985763</td>\n",
       "      <td>4.250000e+08</td>\n",
       "      <td>2.781506e+09</td>\n",
       "      <td>900.000000</td>\n",
       "      <td>9767.000000</td>\n",
       "      <td>9.200000</td>\n",
       "      <td>2015.000000</td>\n",
       "      <td>4.250000e+08</td>\n",
       "      <td>2.827124e+09</td>\n",
       "    </tr>\n",
       "  </tbody>\n",
       "</table>\n",
       "</div>"
      ],
      "text/plain": [
       "                  id    popularity        budget       revenue       runtime  \\\n",
       "count   10866.000000  10866.000000  1.086600e+04  1.086600e+04  10866.000000   \n",
       "mean    66064.177434      0.646441  1.462570e+07  3.982332e+07    102.070863   \n",
       "std     92130.136561      1.000185  3.091321e+07  1.170035e+08     31.381405   \n",
       "min         5.000000      0.000065  0.000000e+00  0.000000e+00      0.000000   \n",
       "25%     10596.250000      0.207583  0.000000e+00  0.000000e+00     90.000000   \n",
       "50%     20669.000000      0.383856  0.000000e+00  0.000000e+00     99.000000   \n",
       "75%     75610.000000      0.713817  1.500000e+07  2.400000e+07    111.000000   \n",
       "max    417859.000000     32.985763  4.250000e+08  2.781506e+09    900.000000   \n",
       "\n",
       "         vote_count  vote_average  release_year    budget_adj   revenue_adj  \n",
       "count  10866.000000  10866.000000  10866.000000  1.086600e+04  1.086600e+04  \n",
       "mean     217.389748      5.974922   2001.322658  1.755104e+07  5.136436e+07  \n",
       "std      575.619058      0.935142     12.812941  3.430616e+07  1.446325e+08  \n",
       "min       10.000000      1.500000   1960.000000  0.000000e+00  0.000000e+00  \n",
       "25%       17.000000      5.400000   1995.000000  0.000000e+00  0.000000e+00  \n",
       "50%       38.000000      6.000000   2006.000000  0.000000e+00  0.000000e+00  \n",
       "75%      145.750000      6.600000   2011.000000  2.085325e+07  3.369710e+07  \n",
       "max     9767.000000      9.200000   2015.000000  4.250000e+08  2.827124e+09  "
      ]
     },
     "execution_count": 6,
     "metadata": {},
     "output_type": "execute_result"
    }
   ],
   "source": [
    "# display summary statistics of tmd columns with numerical values\n",
    "\n",
    "print('\\033[4m' +'\\033[1m' + 'Summary statistics of \"tmd\"' + '\\033[0m' + \\\n",
    "      '\\033[0m' + ' :')\n",
    "\n",
    "tmd.describe()"
   ]
  },
  {
   "cell_type": "code",
   "execution_count": 7,
   "id": "ad4e2d6b",
   "metadata": {},
   "outputs": [
    {
     "name": "stdout",
     "output_type": "stream",
     "text": [
      "\u001b[4m\u001b[1mNumber of unique values in each column of \"tmd\"\u001b[0m\u001b[0m :\n"
     ]
    },
    {
     "data": {
      "text/plain": [
       "id                      10865\n",
       "imdb_id                 10855\n",
       "popularity              10814\n",
       "budget                    557\n",
       "revenue                  4702\n",
       "original_title          10571\n",
       "cast                    10719\n",
       "homepage                 2896\n",
       "director                 5067\n",
       "tagline                  7997\n",
       "keywords                 8804\n",
       "overview                10847\n",
       "runtime                   247\n",
       "genres                   2039\n",
       "production_companies     7445\n",
       "release_date             5909\n",
       "vote_count               1289\n",
       "vote_average               72\n",
       "release_year               56\n",
       "budget_adj               2614\n",
       "revenue_adj              4840\n",
       "dtype: int64"
      ]
     },
     "execution_count": 7,
     "metadata": {},
     "output_type": "execute_result"
    }
   ],
   "source": [
    "# display number of unique values in each columns for \"tmd\"\n",
    "\n",
    "print('\\033[4m' +'\\033[1m' + 'Number of unique values in each column of \"tmd\"' + \\\n",
    "      '\\033[0m' + '\\033[0m' + ' :')\n",
    "\n",
    "tmd.nunique()"
   ]
  },
  {
   "cell_type": "code",
   "execution_count": 8,
   "id": "d4ab8cb6",
   "metadata": {},
   "outputs": [
    {
     "name": "stdout",
     "output_type": "stream",
     "text": [
      "\u001b[4m\u001b[1mNumber of null values in each column of \"tmd\"\u001b[0m\u001b[0m :\n"
     ]
    },
    {
     "data": {
      "text/plain": [
       "id                         0\n",
       "imdb_id                   10\n",
       "popularity                 0\n",
       "budget                     0\n",
       "revenue                    0\n",
       "original_title             0\n",
       "cast                      76\n",
       "homepage                7930\n",
       "director                  44\n",
       "tagline                 2824\n",
       "keywords                1493\n",
       "overview                   4\n",
       "runtime                    0\n",
       "genres                    23\n",
       "production_companies    1030\n",
       "release_date               0\n",
       "vote_count                 0\n",
       "vote_average               0\n",
       "release_year               0\n",
       "budget_adj                 0\n",
       "revenue_adj                0\n",
       "dtype: int64"
      ]
     },
     "execution_count": 8,
     "metadata": {},
     "output_type": "execute_result"
    }
   ],
   "source": [
    "# display number of null values in each column of tmd\n",
    "\n",
    "print('\\033[4m' +'\\033[1m' + 'Number of null values in each column of \"tmd\"' + \\\n",
    "      '\\033[0m' + '\\033[0m' + ' :')\n",
    "\n",
    "tmd.isnull().sum()"
   ]
  },
  {
   "cell_type": "code",
   "execution_count": 9,
   "id": "69831abc",
   "metadata": {
    "scrolled": true
   },
   "outputs": [
    {
     "name": "stdout",
     "output_type": "stream",
     "text": [
      "\u001b[4m\u001b[1mNumber of zero values in each column of \"tmd\"\u001b[0m\u001b[0m :\n"
     ]
    },
    {
     "data": {
      "text/plain": [
       "id                         0\n",
       "imdb_id                    0\n",
       "popularity                 0\n",
       "budget                  5696\n",
       "revenue                 6016\n",
       "original_title             0\n",
       "cast                       0\n",
       "homepage                   0\n",
       "director                   0\n",
       "tagline                    0\n",
       "keywords                   0\n",
       "overview                   0\n",
       "runtime                   31\n",
       "genres                     0\n",
       "production_companies       0\n",
       "release_date               0\n",
       "vote_count                 0\n",
       "vote_average               0\n",
       "release_year               0\n",
       "budget_adj              5696\n",
       "revenue_adj             6016\n",
       "dtype: int64"
      ]
     },
     "execution_count": 9,
     "metadata": {},
     "output_type": "execute_result"
    }
   ],
   "source": [
    "# display number of zero values in each column of tmd\n",
    "\n",
    "print('\\033[4m' +'\\033[1m' + 'Number of zero values in each column of \"tmd\"' + '\\033[0m' + \\\n",
    "      '\\033[0m' + ' :')\n",
    "\n",
    "tmd.isin([0]).sum()"
   ]
  },
  {
   "cell_type": "markdown",
   "id": "d9e8ab4a",
   "metadata": {},
   "source": [
    "### <a href=\"#ob1\"><font color = magenta><u>Observation 1</u></font></a> :\n",
    "\n",
    "### <font color = magenta>1.1</font>  The csv file has been successfully extracted to a pandas dataframe. \n",
    "### <font color = magenta>1.2</font>  There appears to be many null and zero values in various columns; which should be removed during the cleaning step. \n",
    "### <font color = magenta>1.3</font> Also, as there are non-unique values in various columns, we should check for duplicates.\n",
    "### <font color = magenta>1.4</font>  Between \"id\" and \"imdb_id\", the latter can be dropped as it has null values, and as there is no added advantage in keeping both ids to answer our questions.\n",
    "### <font color = magenta>1.5</font>  Columns \"budget\" and \"revenue\" can be dropped as \"budget_adj\" and \"revenue_adj\" provide similar but better information (these are inflation adjusted) for analysis.\n",
    "### <font color = magenta>1.6</font>  Columns \"homepage\", \"tagline\", \"keywords\" and \"overview\" can be dropped as they contribute to little or no information during analysis.\n",
    "### <font color = magenta>1.7</font> To answer the first question ( <font color = magenta>Q1:  Which are the three most and least popular genres of each decade?</font>), columns \"id\", \"popularity\", \"original_title\", \"genres\" and \"release_year\" are sufficient. However, for analysis, multiple genre combination provided in \"genres\" column (each separated by \"|\") should be split into individual rows for each genre.\n",
    "### <font color = magenta>1.8</font> To answer the second question ( <font color = magenta>Q2 : What characteristics distinguish the top 10% profitable movies (all time) from the bottom 10% ?</font>), all columns except those dropped in 1.4 - 1.6 will be needed.\n",
    "### <font color = magenta>1.9</font> Thus, as per 1.7 and 1.8, to answer Q1 and Q2, we will create two different dataframes; and thereafter clean each of them separately. \n",
    "### <font color = magenta>1.10</font> Before beginning any manipulation, as a first step, we should remove duplicate rows wherein all column values are duplicated.\n"
   ]
  },
  {
   "cell_type": "markdown",
   "id": "98a8fd96",
   "metadata": {},
   "source": [
    "<a id='step3'></a>\n",
    "### <font color = magenta><u>Step 3</u>:</font> Check for duplication of rows in the original dataframe (\"tmd\")."
   ]
  },
  {
   "cell_type": "code",
   "execution_count": 10,
   "id": "7c98ae39",
   "metadata": {},
   "outputs": [
    {
     "name": "stdout",
     "output_type": "stream",
     "text": [
      "\u001b[4m\u001b[1mTotal number of duplicates\u001b[0m\u001b[0m :\n"
     ]
    },
    {
     "data": {
      "text/plain": [
       "1"
      ]
     },
     "execution_count": 10,
     "metadata": {},
     "output_type": "execute_result"
    }
   ],
   "source": [
    "# display total number of duplicates\n",
    "\n",
    "print('\\033[4m' +'\\033[1m' + 'Total number of duplicates' + '\\033[0m' + \\\n",
    "      '\\033[0m' + ' :')\n",
    "\n",
    "tmd.duplicated().sum()"
   ]
  },
  {
   "cell_type": "code",
   "execution_count": 11,
   "id": "fa9b0f55",
   "metadata": {
    "scrolled": true
   },
   "outputs": [
    {
     "name": "stdout",
     "output_type": "stream",
     "text": [
      "\u001b[4m\u001b[1mDuplicated rows\u001b[0m\u001b[0m :\n"
     ]
    },
    {
     "data": {
      "text/html": [
       "<div>\n",
       "<style scoped>\n",
       "    .dataframe tbody tr th:only-of-type {\n",
       "        vertical-align: middle;\n",
       "    }\n",
       "\n",
       "    .dataframe tbody tr th {\n",
       "        vertical-align: top;\n",
       "    }\n",
       "\n",
       "    .dataframe thead th {\n",
       "        text-align: right;\n",
       "    }\n",
       "</style>\n",
       "<table border=\"1\" class=\"dataframe\">\n",
       "  <thead>\n",
       "    <tr style=\"text-align: right;\">\n",
       "      <th></th>\n",
       "      <th>id</th>\n",
       "      <th>imdb_id</th>\n",
       "      <th>popularity</th>\n",
       "      <th>budget</th>\n",
       "      <th>revenue</th>\n",
       "      <th>original_title</th>\n",
       "      <th>cast</th>\n",
       "      <th>homepage</th>\n",
       "      <th>director</th>\n",
       "      <th>tagline</th>\n",
       "      <th>...</th>\n",
       "      <th>overview</th>\n",
       "      <th>runtime</th>\n",
       "      <th>genres</th>\n",
       "      <th>production_companies</th>\n",
       "      <th>release_date</th>\n",
       "      <th>vote_count</th>\n",
       "      <th>vote_average</th>\n",
       "      <th>release_year</th>\n",
       "      <th>budget_adj</th>\n",
       "      <th>revenue_adj</th>\n",
       "    </tr>\n",
       "  </thead>\n",
       "  <tbody>\n",
       "    <tr>\n",
       "      <th>2089</th>\n",
       "      <td>42194</td>\n",
       "      <td>tt0411951</td>\n",
       "      <td>0.59643</td>\n",
       "      <td>30000000</td>\n",
       "      <td>967000</td>\n",
       "      <td>TEKKEN</td>\n",
       "      <td>Jon Foo|Kelly Overton|Cary-Hiroyuki Tagawa|Ian...</td>\n",
       "      <td>NaN</td>\n",
       "      <td>Dwight H. Little</td>\n",
       "      <td>Survival is no game</td>\n",
       "      <td>...</td>\n",
       "      <td>In the year of 2039, after World Wars destroy ...</td>\n",
       "      <td>92</td>\n",
       "      <td>Crime|Drama|Action|Thriller|Science Fiction</td>\n",
       "      <td>Namco|Light Song Films</td>\n",
       "      <td>3/20/10</td>\n",
       "      <td>110</td>\n",
       "      <td>5.0</td>\n",
       "      <td>2010</td>\n",
       "      <td>30000000.0</td>\n",
       "      <td>967000.0</td>\n",
       "    </tr>\n",
       "    <tr>\n",
       "      <th>2090</th>\n",
       "      <td>42194</td>\n",
       "      <td>tt0411951</td>\n",
       "      <td>0.59643</td>\n",
       "      <td>30000000</td>\n",
       "      <td>967000</td>\n",
       "      <td>TEKKEN</td>\n",
       "      <td>Jon Foo|Kelly Overton|Cary-Hiroyuki Tagawa|Ian...</td>\n",
       "      <td>NaN</td>\n",
       "      <td>Dwight H. Little</td>\n",
       "      <td>Survival is no game</td>\n",
       "      <td>...</td>\n",
       "      <td>In the year of 2039, after World Wars destroy ...</td>\n",
       "      <td>92</td>\n",
       "      <td>Crime|Drama|Action|Thriller|Science Fiction</td>\n",
       "      <td>Namco|Light Song Films</td>\n",
       "      <td>3/20/10</td>\n",
       "      <td>110</td>\n",
       "      <td>5.0</td>\n",
       "      <td>2010</td>\n",
       "      <td>30000000.0</td>\n",
       "      <td>967000.0</td>\n",
       "    </tr>\n",
       "  </tbody>\n",
       "</table>\n",
       "<p>2 rows × 21 columns</p>\n",
       "</div>"
      ],
      "text/plain": [
       "         id    imdb_id  popularity    budget  revenue original_title  \\\n",
       "2089  42194  tt0411951     0.59643  30000000   967000         TEKKEN   \n",
       "2090  42194  tt0411951     0.59643  30000000   967000         TEKKEN   \n",
       "\n",
       "                                                   cast homepage  \\\n",
       "2089  Jon Foo|Kelly Overton|Cary-Hiroyuki Tagawa|Ian...      NaN   \n",
       "2090  Jon Foo|Kelly Overton|Cary-Hiroyuki Tagawa|Ian...      NaN   \n",
       "\n",
       "              director              tagline  ...  \\\n",
       "2089  Dwight H. Little  Survival is no game  ...   \n",
       "2090  Dwight H. Little  Survival is no game  ...   \n",
       "\n",
       "                                               overview runtime  \\\n",
       "2089  In the year of 2039, after World Wars destroy ...      92   \n",
       "2090  In the year of 2039, after World Wars destroy ...      92   \n",
       "\n",
       "                                           genres    production_companies  \\\n",
       "2089  Crime|Drama|Action|Thriller|Science Fiction  Namco|Light Song Films   \n",
       "2090  Crime|Drama|Action|Thriller|Science Fiction  Namco|Light Song Films   \n",
       "\n",
       "     release_date vote_count  vote_average  release_year  budget_adj  \\\n",
       "2089      3/20/10        110           5.0          2010  30000000.0   \n",
       "2090      3/20/10        110           5.0          2010  30000000.0   \n",
       "\n",
       "      revenue_adj  \n",
       "2089     967000.0  \n",
       "2090     967000.0  \n",
       "\n",
       "[2 rows x 21 columns]"
      ]
     },
     "execution_count": 11,
     "metadata": {},
     "output_type": "execute_result"
    }
   ],
   "source": [
    "# display the duplicated rows \n",
    "\n",
    "print('\\033[4m' +'\\033[1m' + 'Duplicated rows' + '\\033[0m' + '\\033[0m' + ' :')\n",
    "\n",
    "tmd[tmd.duplicated(keep = False)]"
   ]
  },
  {
   "cell_type": "code",
   "execution_count": 12,
   "id": "2fc1dde6",
   "metadata": {},
   "outputs": [
    {
     "name": "stdout",
     "output_type": "stream",
     "text": [
      "\u001b[1mOne of the duplicates is removed.\u001b[0m\n"
     ]
    }
   ],
   "source": [
    "# remove duplicate row\n",
    "\n",
    "print('\\033[1m' + 'One of the duplicates is removed.' + '\\033[0m')\n",
    "\n",
    "tmd.drop([tmd[tmd.duplicated() == True].index[0]], axis = 0, inplace = True)"
   ]
  },
  {
   "cell_type": "code",
   "execution_count": 13,
   "id": "68d4f698",
   "metadata": {},
   "outputs": [
    {
     "name": "stdout",
     "output_type": "stream",
     "text": [
      "\u001b[1mCross-checked if the duplicate row is removed.\u001b[0m\n"
     ]
    },
    {
     "data": {
      "text/plain": [
       "0"
      ]
     },
     "execution_count": 13,
     "metadata": {},
     "output_type": "execute_result"
    }
   ],
   "source": [
    "# testing if duplicated row was removed\n",
    "\n",
    "print('\\033[1m' + 'Cross-checked if the duplicate row is removed.' + '\\033[0m')\n",
    "\n",
    "tmd.duplicated().sum()"
   ]
  },
  {
   "cell_type": "code",
   "execution_count": 14,
   "id": "4cc8b104",
   "metadata": {},
   "outputs": [
    {
     "name": "stdout",
     "output_type": "stream",
     "text": [
      "\u001b[1mRow index are reset after removal of the duplicate rows.\u001b[0m\n"
     ]
    }
   ],
   "source": [
    "# reset the row index of table\n",
    "\n",
    "print('\\033[1m' + 'Row index are reset after removal of the duplicate rows.' \\\n",
    "      + '\\033[0m')\n",
    "\n",
    "tmd.reset_index(drop = True, inplace = True)"
   ]
  },
  {
   "cell_type": "code",
   "execution_count": 15,
   "id": "0e8b4ee9",
   "metadata": {
    "scrolled": true
   },
   "outputs": [
    {
     "name": "stdout",
     "output_type": "stream",
     "text": [
      "\u001b[1mNumber of rows are reduced after removal of duplicates.\u001b[0m\n"
     ]
    },
    {
     "data": {
      "text/plain": [
       "10865"
      ]
     },
     "execution_count": 15,
     "metadata": {},
     "output_type": "execute_result"
    }
   ],
   "source": [
    "# number of rows in the table is reduced by one as shown below\n",
    "\n",
    "print('\\033[1m' + 'Number of rows are reduced after removal of duplicates.' + \\\n",
    "      '\\033[0m')\n",
    "\n",
    "tmd.shape[0]"
   ]
  },
  {
   "cell_type": "markdown",
   "id": "5b4bea7d",
   "metadata": {},
   "source": [
    "### <a id='step4'><font color = magenta><u>Step 4</u>:</font></a> Create a new dataframe (\"tmd_q1\") from the original dataframe (\"tmd\"); and clean it (as discussed in observation 1) for analysis to answer Q1."
   ]
  },
  {
   "cell_type": "code",
   "execution_count": 16,
   "id": "ab23a120",
   "metadata": {},
   "outputs": [
    {
     "name": "stdout",
     "output_type": "stream",
     "text": [
      "\u001b[4m\u001b[1mColumn index and name in \"tmd\" are\u001b[0m\u001b[0m :\n",
      "0 id\n",
      "1 imdb_id\n",
      "2 popularity\n",
      "3 budget\n",
      "4 revenue\n",
      "5 original_title\n",
      "6 cast\n",
      "7 homepage\n",
      "8 director\n",
      "9 tagline\n",
      "10 keywords\n",
      "11 overview\n",
      "12 runtime\n",
      "13 genres\n",
      "14 production_companies\n",
      "15 release_date\n",
      "16 vote_count\n",
      "17 vote_average\n",
      "18 release_year\n",
      "19 budget_adj\n",
      "20 revenue_adj\n"
     ]
    }
   ],
   "source": [
    "# display columns and their index\n",
    "\n",
    "print('\\033[4m' +'\\033[1m' + 'Column index and name in \"tmd\" are' + '\\033[0m' + \\\n",
    "      '\\033[0m' + ' :')\n",
    "\n",
    "for (i, j) in enumerate(tmd.columns):\n",
    "    print(i, j)"
   ]
  },
  {
   "cell_type": "code",
   "execution_count": 17,
   "id": "f9495cad",
   "metadata": {},
   "outputs": [
    {
     "name": "stdout",
     "output_type": "stream",
     "text": [
      "\u001b[1mRelevant columns from \"tmd\" are copied to create the new dataframe \"tmd_q1\"\u001b[0m\n"
     ]
    }
   ],
   "source": [
    "# use the column index to copy relevant columns into a new dataframe \"tmd_q1\"\n",
    "\n",
    "print('\\033[1m' + 'Relevant columns from \"tmd\" are copied to create the new \\\n",
    "dataframe \"tmd_q1\"' + '\\033[0m')\n",
    "\n",
    "tmd_q1 = tmd.iloc[:,[0, 2, 5, 13, 18]].copy()"
   ]
  },
  {
   "cell_type": "code",
   "execution_count": 18,
   "id": "8eb25eb1",
   "metadata": {},
   "outputs": [
    {
     "name": "stdout",
     "output_type": "stream",
     "text": [
      "\u001b[4m\u001b[1mFirst three rows of \"tmd_q1\"\u001b[0m\u001b[0m :\n"
     ]
    },
    {
     "data": {
      "text/html": [
       "<div>\n",
       "<style scoped>\n",
       "    .dataframe tbody tr th:only-of-type {\n",
       "        vertical-align: middle;\n",
       "    }\n",
       "\n",
       "    .dataframe tbody tr th {\n",
       "        vertical-align: top;\n",
       "    }\n",
       "\n",
       "    .dataframe thead th {\n",
       "        text-align: right;\n",
       "    }\n",
       "</style>\n",
       "<table border=\"1\" class=\"dataframe\">\n",
       "  <thead>\n",
       "    <tr style=\"text-align: right;\">\n",
       "      <th></th>\n",
       "      <th>id</th>\n",
       "      <th>popularity</th>\n",
       "      <th>original_title</th>\n",
       "      <th>genres</th>\n",
       "      <th>release_year</th>\n",
       "    </tr>\n",
       "  </thead>\n",
       "  <tbody>\n",
       "    <tr>\n",
       "      <th>0</th>\n",
       "      <td>135397</td>\n",
       "      <td>32.985763</td>\n",
       "      <td>Jurassic World</td>\n",
       "      <td>Action|Adventure|Science Fiction|Thriller</td>\n",
       "      <td>2015</td>\n",
       "    </tr>\n",
       "    <tr>\n",
       "      <th>1</th>\n",
       "      <td>76341</td>\n",
       "      <td>28.419936</td>\n",
       "      <td>Mad Max: Fury Road</td>\n",
       "      <td>Action|Adventure|Science Fiction|Thriller</td>\n",
       "      <td>2015</td>\n",
       "    </tr>\n",
       "    <tr>\n",
       "      <th>2</th>\n",
       "      <td>262500</td>\n",
       "      <td>13.112507</td>\n",
       "      <td>Insurgent</td>\n",
       "      <td>Adventure|Science Fiction|Thriller</td>\n",
       "      <td>2015</td>\n",
       "    </tr>\n",
       "  </tbody>\n",
       "</table>\n",
       "</div>"
      ],
      "text/plain": [
       "       id  popularity      original_title  \\\n",
       "0  135397   32.985763      Jurassic World   \n",
       "1   76341   28.419936  Mad Max: Fury Road   \n",
       "2  262500   13.112507           Insurgent   \n",
       "\n",
       "                                      genres  release_year  \n",
       "0  Action|Adventure|Science Fiction|Thriller          2015  \n",
       "1  Action|Adventure|Science Fiction|Thriller          2015  \n",
       "2         Adventure|Science Fiction|Thriller          2015  "
      ]
     },
     "execution_count": 18,
     "metadata": {},
     "output_type": "execute_result"
    },
    {
     "name": "stdout",
     "output_type": "stream",
     "text": [
      "\u001b[4m\u001b[1mLast three rows of \"tmd_q1\"\u001b[0m\u001b[0m :\n"
     ]
    },
    {
     "data": {
      "text/html": [
       "<div>\n",
       "<style scoped>\n",
       "    .dataframe tbody tr th:only-of-type {\n",
       "        vertical-align: middle;\n",
       "    }\n",
       "\n",
       "    .dataframe tbody tr th {\n",
       "        vertical-align: top;\n",
       "    }\n",
       "\n",
       "    .dataframe thead th {\n",
       "        text-align: right;\n",
       "    }\n",
       "</style>\n",
       "<table border=\"1\" class=\"dataframe\">\n",
       "  <thead>\n",
       "    <tr style=\"text-align: right;\">\n",
       "      <th></th>\n",
       "      <th>id</th>\n",
       "      <th>popularity</th>\n",
       "      <th>original_title</th>\n",
       "      <th>genres</th>\n",
       "      <th>release_year</th>\n",
       "    </tr>\n",
       "  </thead>\n",
       "  <tbody>\n",
       "    <tr>\n",
       "      <th>10862</th>\n",
       "      <td>39768</td>\n",
       "      <td>0.065141</td>\n",
       "      <td>Beregis Avtomobilya</td>\n",
       "      <td>Mystery|Comedy</td>\n",
       "      <td>1966</td>\n",
       "    </tr>\n",
       "    <tr>\n",
       "      <th>10863</th>\n",
       "      <td>21449</td>\n",
       "      <td>0.064317</td>\n",
       "      <td>What's Up, Tiger Lily?</td>\n",
       "      <td>Action|Comedy</td>\n",
       "      <td>1966</td>\n",
       "    </tr>\n",
       "    <tr>\n",
       "      <th>10864</th>\n",
       "      <td>22293</td>\n",
       "      <td>0.035919</td>\n",
       "      <td>Manos: The Hands of Fate</td>\n",
       "      <td>Horror</td>\n",
       "      <td>1966</td>\n",
       "    </tr>\n",
       "  </tbody>\n",
       "</table>\n",
       "</div>"
      ],
      "text/plain": [
       "          id  popularity            original_title          genres  \\\n",
       "10862  39768    0.065141       Beregis Avtomobilya  Mystery|Comedy   \n",
       "10863  21449    0.064317    What's Up, Tiger Lily?   Action|Comedy   \n",
       "10864  22293    0.035919  Manos: The Hands of Fate          Horror   \n",
       "\n",
       "       release_year  \n",
       "10862          1966  \n",
       "10863          1966  \n",
       "10864          1966  "
      ]
     },
     "execution_count": 18,
     "metadata": {},
     "output_type": "execute_result"
    }
   ],
   "source": [
    "# display first and last three rows of the \"tmd_q1\"\n",
    "\n",
    "print('\\033[4m' +'\\033[1m' + 'First three rows of \"tmd_q1\"' + '\\033[0m' + \\\n",
    "      '\\033[0m' + ' :')\n",
    "\n",
    "tmd_q1.head(3)\n",
    "\n",
    "print('\\033[4m' +'\\033[1m' + 'Last three rows of \"tmd_q1\"' + '\\033[0m' + \\\n",
    "      '\\033[0m' + ' :')\n",
    "\n",
    "tmd_q1.tail(3)"
   ]
  },
  {
   "cell_type": "code",
   "execution_count": 19,
   "id": "f24f7edc",
   "metadata": {},
   "outputs": [
    {
     "name": "stdout",
     "output_type": "stream",
     "text": [
      "\u001b[4m\u001b[1mNumber of null values in each column of \"tmd_q1\"\u001b[0m\u001b[0m :\n"
     ]
    },
    {
     "data": {
      "text/plain": [
       "id                 0\n",
       "popularity         0\n",
       "original_title     0\n",
       "genres            23\n",
       "release_year       0\n",
       "dtype: int64"
      ]
     },
     "execution_count": 19,
     "metadata": {},
     "output_type": "execute_result"
    }
   ],
   "source": [
    "# checking for null values\n",
    "\n",
    "print('\\033[4m' +'\\033[1m' + 'Number of null values in each column of \"tmd_q1\"' + \\\n",
    "      '\\033[0m' + '\\033[0m' + ' :')\n",
    "\n",
    "tmd_q1.isnull().sum()"
   ]
  },
  {
   "cell_type": "code",
   "execution_count": 20,
   "id": "a11ebb82",
   "metadata": {},
   "outputs": [
    {
     "name": "stdout",
     "output_type": "stream",
     "text": [
      "\u001b[4m\u001b[1mNumber of zero values in each column of \"tmd_q1\"\u001b[0m\u001b[0m :\n"
     ]
    },
    {
     "data": {
      "text/plain": [
       "id                0\n",
       "popularity        0\n",
       "original_title    0\n",
       "genres            0\n",
       "release_year      0\n",
       "dtype: int64"
      ]
     },
     "execution_count": 20,
     "metadata": {},
     "output_type": "execute_result"
    }
   ],
   "source": [
    "#checking for zeros\n",
    "\n",
    "print('\\033[4m' +'\\033[1m' + 'Number of zero values in each column of \"tmd_q1\"' + \\\n",
    "      '\\033[0m' + '\\033[0m' + ' :')\n",
    "\n",
    "tmd_q1.isin([0]).sum()"
   ]
  },
  {
   "cell_type": "code",
   "execution_count": 21,
   "id": "a362b56b",
   "metadata": {},
   "outputs": [
    {
     "name": "stdout",
     "output_type": "stream",
     "text": [
      "\u001b[1mRemoving rows with null values.\u001b[0m\n"
     ]
    }
   ],
   "source": [
    "# remove rows with null values in genre column\n",
    "\n",
    "print('\\033[1m' + 'Removing rows with null values.' + '\\033[0m')\n",
    "\n",
    "tmd_q1.dropna(inplace = True)"
   ]
  },
  {
   "cell_type": "code",
   "execution_count": 22,
   "id": "7773a1c9",
   "metadata": {},
   "outputs": [
    {
     "name": "stdout",
     "output_type": "stream",
     "text": [
      "\u001b[1mChecking if removal of rows with null values is successfull.\u001b[0m\n"
     ]
    },
    {
     "data": {
      "text/plain": [
       "id                0\n",
       "popularity        0\n",
       "original_title    0\n",
       "genres            0\n",
       "release_year      0\n",
       "dtype: int64"
      ]
     },
     "execution_count": 22,
     "metadata": {},
     "output_type": "execute_result"
    }
   ],
   "source": [
    "# confirming that the rows with nulls in \"genre\" column have been removed\n",
    "\n",
    "print('\\033[1m' + 'Checking if removal of rows with null values is successfull.' \\\n",
    "      + '\\033[0m')\n",
    "\n",
    "tmd_q1.isnull().sum()"
   ]
  },
  {
   "cell_type": "code",
   "execution_count": 23,
   "id": "5331cfed",
   "metadata": {},
   "outputs": [
    {
     "name": "stdout",
     "output_type": "stream",
     "text": [
      "\u001b[1mThe row index are reset.\u001b[0m\n"
     ]
    }
   ],
   "source": [
    "# reset the index numbering of rows\n",
    "\n",
    "print('\\033[1m' + 'The row index are reset.' + '\\033[0m')\n",
    "\n",
    "tmd_q1.reset_index(drop = True, inplace = True)"
   ]
  },
  {
   "cell_type": "code",
   "execution_count": 24,
   "id": "975ab6e4",
   "metadata": {},
   "outputs": [
    {
     "name": "stdout",
     "output_type": "stream",
     "text": [
      "\u001b[4m\u001b[1mThe final shape of \"tmd_q1\"\u001b[0m\u001b[0m :\n"
     ]
    },
    {
     "data": {
      "text/plain": [
       "(10842, 5)"
      ]
     },
     "execution_count": 24,
     "metadata": {},
     "output_type": "execute_result"
    }
   ],
   "source": [
    "# check for number of rows and columns as a test\n",
    "\n",
    "print('\\033[4m' +'\\033[1m' + 'The final shape of \"tmd_q1\"' + '\\033[0m' + \\\n",
    "      '\\033[0m' + ' :')\n",
    "\n",
    "tmd_q1.shape"
   ]
  },
  {
   "cell_type": "markdown",
   "id": "a1c695f0",
   "metadata": {},
   "source": [
    "### <font color = magenta><u>Note 1</u></font> : \n",
    "### It should be noted that when we previously checked for duplicate rows (in the original dataframe \"tmd\"), we considered all the columns of the table. However, if we consider fewer columns (of  \"tmd\"), we may still obtain duplicates. \n",
    "\n",
    "### To ensure the absence of movie duplicates, we will have to list and visualize different cases considering various combinations of relevant columns. These tests are demonstrated below for the dataframe \"tmd_q1\"."
   ]
  },
  {
   "cell_type": "code",
   "execution_count": 25,
   "id": "8ef2fa26",
   "metadata": {},
   "outputs": [
    {
     "name": "stdout",
     "output_type": "stream",
     "text": [
      "\u001b[4m\u001b[1mNumber of duplicates in \"tmd_q1\" considering all 5 of it's columns\u001b[0m\u001b[0m :\n"
     ]
    },
    {
     "data": {
      "text/plain": [
       "0"
      ]
     },
     "execution_count": 25,
     "metadata": {},
     "output_type": "execute_result"
    }
   ],
   "source": [
    "# number of duplicate rows considering all 5 columns in \"tmd_q1\"\n",
    "\n",
    "print('\\033[4m' +'\\033[1m' + 'Number of duplicates in \"tmd_q1\" considering all 5 of \\\n",
    "it\\'s columns' + '\\033[0m' + '\\033[0m' + ' :')\n",
    "\n",
    "tmd_q1.duplicated().sum()"
   ]
  },
  {
   "cell_type": "code",
   "execution_count": 26,
   "id": "ab49f4a4",
   "metadata": {},
   "outputs": [
    {
     "name": "stdout",
     "output_type": "stream",
     "text": [
      "\u001b[4m\u001b[1mNumber of duplicates in \"tmd_q1\" considering columns \"original_title\" and \"release_year\" only\u001b[0m\u001b[0m :\n"
     ]
    },
    {
     "data": {
      "text/plain": [
       "3"
      ]
     },
     "execution_count": 26,
     "metadata": {},
     "output_type": "execute_result"
    }
   ],
   "source": [
    "# number of duplicate rows considering \"original_title\" and \"release_year\" columns\n",
    "\n",
    "print('\\033[4m' +'\\033[1m' + 'Number of duplicates in \"tmd_q1\" considering columns \\\n",
    "\"original_title\" and \"release_year\" only' + '\\033[0m' + '\\033[0m' + ' :')\n",
    "\n",
    "tmd_q1.duplicated(['original_title', 'release_year']).sum()"
   ]
  },
  {
   "cell_type": "code",
   "execution_count": 27,
   "id": "3eeea2f5",
   "metadata": {},
   "outputs": [
    {
     "name": "stdout",
     "output_type": "stream",
     "text": [
      "\u001b[4m\u001b[1mDisplaying duplicated rows in \"tmd_q1\" considering only \"original_title\" and \"release_year\"\u001b[0m\u001b[0m :\n"
     ]
    },
    {
     "data": {
      "text/html": [
       "<div>\n",
       "<style scoped>\n",
       "    .dataframe tbody tr th:only-of-type {\n",
       "        vertical-align: middle;\n",
       "    }\n",
       "\n",
       "    .dataframe tbody tr th {\n",
       "        vertical-align: top;\n",
       "    }\n",
       "\n",
       "    .dataframe thead th {\n",
       "        text-align: right;\n",
       "    }\n",
       "</style>\n",
       "<table border=\"1\" class=\"dataframe\">\n",
       "  <thead>\n",
       "    <tr style=\"text-align: right;\">\n",
       "      <th></th>\n",
       "      <th>id</th>\n",
       "      <th>popularity</th>\n",
       "      <th>original_title</th>\n",
       "      <th>genres</th>\n",
       "      <th>release_year</th>\n",
       "    </tr>\n",
       "  </thead>\n",
       "  <tbody>\n",
       "    <tr>\n",
       "      <th>2500</th>\n",
       "      <td>11944</td>\n",
       "      <td>0.406308</td>\n",
       "      <td>Joan of Arc</td>\n",
       "      <td>Drama|History</td>\n",
       "      <td>1999</td>\n",
       "    </tr>\n",
       "    <tr>\n",
       "      <th>2563</th>\n",
       "      <td>10047</td>\n",
       "      <td>0.235223</td>\n",
       "      <td>Joan of Arc</td>\n",
       "      <td>Adventure|Drama|Action|History|War</td>\n",
       "      <td>1999</td>\n",
       "    </tr>\n",
       "    <tr>\n",
       "      <th>5710</th>\n",
       "      <td>217316</td>\n",
       "      <td>0.364669</td>\n",
       "      <td>1</td>\n",
       "      <td>Documentary</td>\n",
       "      <td>2013</td>\n",
       "    </tr>\n",
       "    <tr>\n",
       "      <th>5734</th>\n",
       "      <td>176068</td>\n",
       "      <td>0.336081</td>\n",
       "      <td>1</td>\n",
       "      <td>Thriller|Science Fiction</td>\n",
       "      <td>2013</td>\n",
       "    </tr>\n",
       "    <tr>\n",
       "      <th>8531</th>\n",
       "      <td>3573</td>\n",
       "      <td>0.477489</td>\n",
       "      <td>Emma</td>\n",
       "      <td>Comedy|Drama|Romance</td>\n",
       "      <td>1996</td>\n",
       "    </tr>\n",
       "    <tr>\n",
       "      <th>8626</th>\n",
       "      <td>12254</td>\n",
       "      <td>0.161600</td>\n",
       "      <td>Emma</td>\n",
       "      <td>TV Movie|Comedy|Drama|Romance</td>\n",
       "      <td>1996</td>\n",
       "    </tr>\n",
       "  </tbody>\n",
       "</table>\n",
       "</div>"
      ],
      "text/plain": [
       "          id  popularity original_title                              genres  \\\n",
       "2500   11944    0.406308    Joan of Arc                       Drama|History   \n",
       "2563   10047    0.235223    Joan of Arc  Adventure|Drama|Action|History|War   \n",
       "5710  217316    0.364669              1                         Documentary   \n",
       "5734  176068    0.336081              1            Thriller|Science Fiction   \n",
       "8531    3573    0.477489           Emma                Comedy|Drama|Romance   \n",
       "8626   12254    0.161600           Emma       TV Movie|Comedy|Drama|Romance   \n",
       "\n",
       "      release_year  \n",
       "2500          1999  \n",
       "2563          1999  \n",
       "5710          2013  \n",
       "5734          2013  \n",
       "8531          1996  \n",
       "8626          1996  "
      ]
     },
     "execution_count": 27,
     "metadata": {},
     "output_type": "execute_result"
    }
   ],
   "source": [
    "# listing all these rows\n",
    "\n",
    "print('\\033[4m' +'\\033[1m' + 'Displaying duplicated rows in \"tmd_q1\" considering only \\\n",
    "\"original_title\" and \"release_year\"' + '\\033[0m' + '\\033[0m' + ' :')\n",
    "\n",
    "tmd_q1[tmd_q1.duplicated(['original_title', 'release_year'], keep = False)]"
   ]
  },
  {
   "cell_type": "code",
   "execution_count": 28,
   "id": "16844c6a",
   "metadata": {},
   "outputs": [
    {
     "name": "stdout",
     "output_type": "stream",
     "text": [
      "\u001b[4m\u001b[1mExtracting all columns from \"tmd\" corresponding to the ids of duplicate rows in \"tmd_q1\" so as to confirm if they are actually duplicates\u001b[0m\u001b[0m\u001b[0m :\n"
     ]
    },
    {
     "data": {
      "text/html": [
       "<div>\n",
       "<style scoped>\n",
       "    .dataframe tbody tr th:only-of-type {\n",
       "        vertical-align: middle;\n",
       "    }\n",
       "\n",
       "    .dataframe tbody tr th {\n",
       "        vertical-align: top;\n",
       "    }\n",
       "\n",
       "    .dataframe thead th {\n",
       "        text-align: right;\n",
       "    }\n",
       "</style>\n",
       "<table border=\"1\" class=\"dataframe\">\n",
       "  <thead>\n",
       "    <tr style=\"text-align: right;\">\n",
       "      <th></th>\n",
       "      <th>id</th>\n",
       "      <th>imdb_id</th>\n",
       "      <th>popularity</th>\n",
       "      <th>budget</th>\n",
       "      <th>revenue</th>\n",
       "      <th>original_title</th>\n",
       "      <th>cast</th>\n",
       "      <th>homepage</th>\n",
       "      <th>director</th>\n",
       "      <th>tagline</th>\n",
       "      <th>...</th>\n",
       "      <th>overview</th>\n",
       "      <th>runtime</th>\n",
       "      <th>genres</th>\n",
       "      <th>production_companies</th>\n",
       "      <th>release_date</th>\n",
       "      <th>vote_count</th>\n",
       "      <th>vote_average</th>\n",
       "      <th>release_year</th>\n",
       "      <th>budget_adj</th>\n",
       "      <th>revenue_adj</th>\n",
       "    </tr>\n",
       "  </thead>\n",
       "  <tbody>\n",
       "    <tr>\n",
       "      <th>2507</th>\n",
       "      <td>11944</td>\n",
       "      <td>tt0178145</td>\n",
       "      <td>0.406308</td>\n",
       "      <td>20000000</td>\n",
       "      <td>0</td>\n",
       "      <td>Joan of Arc</td>\n",
       "      <td>Leelee Sobieski|Powers Boothe|Neil Patrick Har...</td>\n",
       "      <td>NaN</td>\n",
       "      <td>Christian Duguay</td>\n",
       "      <td>She died at 19. 500 years later her legend liv...</td>\n",
       "      <td>...</td>\n",
       "      <td>Ten years before her death, Joan hears voices....</td>\n",
       "      <td>140</td>\n",
       "      <td>Drama|History</td>\n",
       "      <td>NaN</td>\n",
       "      <td>5/16/99</td>\n",
       "      <td>13</td>\n",
       "      <td>5.8</td>\n",
       "      <td>1999</td>\n",
       "      <td>2.618106e+07</td>\n",
       "      <td>0.000000e+00</td>\n",
       "    </tr>\n",
       "    <tr>\n",
       "      <th>2570</th>\n",
       "      <td>10047</td>\n",
       "      <td>tt0151137</td>\n",
       "      <td>0.235223</td>\n",
       "      <td>60000000</td>\n",
       "      <td>66976317</td>\n",
       "      <td>Joan of Arc</td>\n",
       "      <td>Milla Jovovich|Dustin Hoffman|Faye Dunaway|Joh...</td>\n",
       "      <td>NaN</td>\n",
       "      <td>Luc Besson</td>\n",
       "      <td>NaN</td>\n",
       "      <td>...</td>\n",
       "      <td>In 1429 a teenage girl from a remote French vi...</td>\n",
       "      <td>148</td>\n",
       "      <td>Adventure|Drama|Action|History|War</td>\n",
       "      <td>Columbia Pictures|Gaumont</td>\n",
       "      <td>10/18/99</td>\n",
       "      <td>209</td>\n",
       "      <td>6.1</td>\n",
       "      <td>1999</td>\n",
       "      <td>7.854317e+07</td>\n",
       "      <td>8.767554e+07</td>\n",
       "    </tr>\n",
       "    <tr>\n",
       "      <th>5723</th>\n",
       "      <td>217316</td>\n",
       "      <td>tt2518788</td>\n",
       "      <td>0.364669</td>\n",
       "      <td>0</td>\n",
       "      <td>0</td>\n",
       "      <td>1</td>\n",
       "      <td>Michael Fassbender|Niki Lauda|Michael Schumach...</td>\n",
       "      <td>https://www.facebook.com/1thefilm</td>\n",
       "      <td>Paul Crowder</td>\n",
       "      <td>The True Story of the Drivers Who Risked Their...</td>\n",
       "      <td>...</td>\n",
       "      <td>Set in the golden era of Grand Prix Racing '1'...</td>\n",
       "      <td>112</td>\n",
       "      <td>Documentary</td>\n",
       "      <td>Exclusive Media Group|Universum Film (UFA)|Spi...</td>\n",
       "      <td>9/30/13</td>\n",
       "      <td>25</td>\n",
       "      <td>7.6</td>\n",
       "      <td>2013</td>\n",
       "      <td>0.000000e+00</td>\n",
       "      <td>0.000000e+00</td>\n",
       "    </tr>\n",
       "    <tr>\n",
       "      <th>5747</th>\n",
       "      <td>176068</td>\n",
       "      <td>tt2395385</td>\n",
       "      <td>0.336081</td>\n",
       "      <td>0</td>\n",
       "      <td>0</td>\n",
       "      <td>1</td>\n",
       "      <td>Rhys Wakefield|Logan Miller|Ashley Hinshaw|Nat...</td>\n",
       "      <td>NaN</td>\n",
       "      <td>Dennis Iliadis</td>\n",
       "      <td>Everyone wants one.</td>\n",
       "      <td>...</td>\n",
       "      <td>Three college friends go to the biggest party ...</td>\n",
       "      <td>95</td>\n",
       "      <td>Thriller|Science Fiction</td>\n",
       "      <td>Process Productions</td>\n",
       "      <td>9/20/13</td>\n",
       "      <td>49</td>\n",
       "      <td>5.1</td>\n",
       "      <td>2013</td>\n",
       "      <td>0.000000e+00</td>\n",
       "      <td>0.000000e+00</td>\n",
       "    </tr>\n",
       "    <tr>\n",
       "      <th>8549</th>\n",
       "      <td>3573</td>\n",
       "      <td>tt0116191</td>\n",
       "      <td>0.477489</td>\n",
       "      <td>6000000</td>\n",
       "      <td>22231658</td>\n",
       "      <td>Emma</td>\n",
       "      <td>Gwyneth Paltrow|Toni Collette|Alan Cumming|Ewa...</td>\n",
       "      <td>http://www.miramax.com/movie/emma/</td>\n",
       "      <td>Douglas McGrath</td>\n",
       "      <td>Cupid is armed and dangerous!</td>\n",
       "      <td>...</td>\n",
       "      <td>Emma Woodhouse is a congenial young lady who d...</td>\n",
       "      <td>121</td>\n",
       "      <td>Comedy|Drama|Romance</td>\n",
       "      <td>Miramax Films|Haft Entertainment|Matchmaker Films</td>\n",
       "      <td>8/2/96</td>\n",
       "      <td>77</td>\n",
       "      <td>6.5</td>\n",
       "      <td>1996</td>\n",
       "      <td>8.341300e+06</td>\n",
       "      <td>3.090682e+07</td>\n",
       "    </tr>\n",
       "    <tr>\n",
       "      <th>8645</th>\n",
       "      <td>12254</td>\n",
       "      <td>tt0118308</td>\n",
       "      <td>0.161600</td>\n",
       "      <td>0</td>\n",
       "      <td>0</td>\n",
       "      <td>Emma</td>\n",
       "      <td>Kate Beckinsale|Bernard Hepton|Mark Strong|Sam...</td>\n",
       "      <td>NaN</td>\n",
       "      <td>Diarmuid Lawrence</td>\n",
       "      <td>NaN</td>\n",
       "      <td>...</td>\n",
       "      <td>Emma Woodhouse has a rigid sense of propriety ...</td>\n",
       "      <td>107</td>\n",
       "      <td>TV Movie|Comedy|Drama|Romance</td>\n",
       "      <td>Meridian Broadcasting Ltd</td>\n",
       "      <td>8/1/96</td>\n",
       "      <td>15</td>\n",
       "      <td>6.6</td>\n",
       "      <td>1996</td>\n",
       "      <td>0.000000e+00</td>\n",
       "      <td>0.000000e+00</td>\n",
       "    </tr>\n",
       "  </tbody>\n",
       "</table>\n",
       "<p>6 rows × 21 columns</p>\n",
       "</div>"
      ],
      "text/plain": [
       "          id    imdb_id  popularity    budget   revenue original_title  \\\n",
       "2507   11944  tt0178145    0.406308  20000000         0    Joan of Arc   \n",
       "2570   10047  tt0151137    0.235223  60000000  66976317    Joan of Arc   \n",
       "5723  217316  tt2518788    0.364669         0         0              1   \n",
       "5747  176068  tt2395385    0.336081         0         0              1   \n",
       "8549    3573  tt0116191    0.477489   6000000  22231658           Emma   \n",
       "8645   12254  tt0118308    0.161600         0         0           Emma   \n",
       "\n",
       "                                                   cast  \\\n",
       "2507  Leelee Sobieski|Powers Boothe|Neil Patrick Har...   \n",
       "2570  Milla Jovovich|Dustin Hoffman|Faye Dunaway|Joh...   \n",
       "5723  Michael Fassbender|Niki Lauda|Michael Schumach...   \n",
       "5747  Rhys Wakefield|Logan Miller|Ashley Hinshaw|Nat...   \n",
       "8549  Gwyneth Paltrow|Toni Collette|Alan Cumming|Ewa...   \n",
       "8645  Kate Beckinsale|Bernard Hepton|Mark Strong|Sam...   \n",
       "\n",
       "                                homepage           director  \\\n",
       "2507                                 NaN   Christian Duguay   \n",
       "2570                                 NaN         Luc Besson   \n",
       "5723   https://www.facebook.com/1thefilm       Paul Crowder   \n",
       "5747                                 NaN     Dennis Iliadis   \n",
       "8549  http://www.miramax.com/movie/emma/    Douglas McGrath   \n",
       "8645                                 NaN  Diarmuid Lawrence   \n",
       "\n",
       "                                                tagline  ...  \\\n",
       "2507  She died at 19. 500 years later her legend liv...  ...   \n",
       "2570                                                NaN  ...   \n",
       "5723  The True Story of the Drivers Who Risked Their...  ...   \n",
       "5747                                Everyone wants one.  ...   \n",
       "8549                      Cupid is armed and dangerous!  ...   \n",
       "8645                                                NaN  ...   \n",
       "\n",
       "                                               overview runtime  \\\n",
       "2507  Ten years before her death, Joan hears voices....     140   \n",
       "2570  In 1429 a teenage girl from a remote French vi...     148   \n",
       "5723  Set in the golden era of Grand Prix Racing '1'...     112   \n",
       "5747  Three college friends go to the biggest party ...      95   \n",
       "8549  Emma Woodhouse is a congenial young lady who d...     121   \n",
       "8645  Emma Woodhouse has a rigid sense of propriety ...     107   \n",
       "\n",
       "                                  genres  \\\n",
       "2507                       Drama|History   \n",
       "2570  Adventure|Drama|Action|History|War   \n",
       "5723                         Documentary   \n",
       "5747            Thriller|Science Fiction   \n",
       "8549                Comedy|Drama|Romance   \n",
       "8645       TV Movie|Comedy|Drama|Romance   \n",
       "\n",
       "                                   production_companies release_date  \\\n",
       "2507                                                NaN      5/16/99   \n",
       "2570                          Columbia Pictures|Gaumont     10/18/99   \n",
       "5723  Exclusive Media Group|Universum Film (UFA)|Spi...      9/30/13   \n",
       "5747                                Process Productions      9/20/13   \n",
       "8549  Miramax Films|Haft Entertainment|Matchmaker Films       8/2/96   \n",
       "8645                          Meridian Broadcasting Ltd       8/1/96   \n",
       "\n",
       "     vote_count  vote_average  release_year    budget_adj   revenue_adj  \n",
       "2507         13           5.8          1999  2.618106e+07  0.000000e+00  \n",
       "2570        209           6.1          1999  7.854317e+07  8.767554e+07  \n",
       "5723         25           7.6          2013  0.000000e+00  0.000000e+00  \n",
       "5747         49           5.1          2013  0.000000e+00  0.000000e+00  \n",
       "8549         77           6.5          1996  8.341300e+06  3.090682e+07  \n",
       "8645         15           6.6          1996  0.000000e+00  0.000000e+00  \n",
       "\n",
       "[6 rows x 21 columns]"
      ]
     },
     "execution_count": 28,
     "metadata": {},
     "output_type": "execute_result"
    }
   ],
   "source": [
    "# Confirming if these movies are actually duplicates.\n",
    "\n",
    "print('\\033[4m' +'\\033[1m' + 'Extracting all columns from \"tmd\" corresponding \\\n",
    "to the ids of duplicate rows in \"tmd_q1\" so as to confirm if they are actually \\\n",
    "duplicates' + '\\033[0m' + '\\033[0m' + '\\033[0m' + ' :')\n",
    "\n",
    "tmd.loc[tmd['id'].isin([11944, 10047, 217316, 176068, 3573, 12254])]"
   ]
  },
  {
   "cell_type": "markdown",
   "id": "05605ed9",
   "metadata": {},
   "source": [
    "### <font color = magenta><u>Observation 2</u></font> : \n",
    "\n",
    "### Though there are three pairs of movies with same \"original_title\" and \"release_year\", movies in each pairs have different values in remaining columns (including \"director\", \"release_date\", etc.). Therefore, none of them can be considered duplicates."
   ]
  },
  {
   "cell_type": "code",
   "execution_count": 29,
   "id": "22648476",
   "metadata": {},
   "outputs": [
    {
     "name": "stdout",
     "output_type": "stream",
     "text": [
      "\u001b[4m\u001b[1mIn each row of \"tmd_q1\", multiple genres separated by \"|\" are converted to a list of genres as shown below\u001b[0m\u001b[0m :\n"
     ]
    },
    {
     "data": {
      "text/plain": [
       "0        [Action, Adventure, Science Fiction, Thriller]\n",
       "1        [Action, Adventure, Science Fiction, Thriller]\n",
       "2                [Adventure, Science Fiction, Thriller]\n",
       "3         [Action, Adventure, Science Fiction, Fantasy]\n",
       "4                             [Action, Crime, Thriller]\n",
       "                              ...                      \n",
       "10837                                     [Documentary]\n",
       "10838                        [Action, Adventure, Drama]\n",
       "10839                                 [Mystery, Comedy]\n",
       "10840                                  [Action, Comedy]\n",
       "10841                                          [Horror]\n",
       "Name: genres, Length: 10842, dtype: object"
      ]
     },
     "execution_count": 29,
     "metadata": {},
     "output_type": "execute_result"
    }
   ],
   "source": [
    "# in each row, multiple genres separated by \"|\" are converted to a list of genres\n",
    "\n",
    "print('\\033[4m' +'\\033[1m' + 'In each row of \"tmd_q1\", multiple genres \\\n",
    "separated by \"|\" are converted to a list of genres as shown below' + \\\n",
    "      '\\033[0m' + '\\033[0m' + ' :')\n",
    "\n",
    "tmd_q1['genres'] = tmd_q1['genres'].str.split('|')\n",
    "tmd_q1['genres']"
   ]
  },
  {
   "cell_type": "code",
   "execution_count": 30,
   "id": "fc585f52",
   "metadata": {},
   "outputs": [
    {
     "name": "stdout",
     "output_type": "stream",
     "text": [
      "\u001b[1mSeparate row is assigned to each genre within these lists of genres.\u001b[0m\n"
     ]
    }
   ],
   "source": [
    "# separate row is assigned to each genre within the list of genres in all rows of the table\n",
    "\n",
    "print('\\033[1m' + 'Separate row is assigned to each genre within these lists \\\n",
    "of genres.' + '\\033[0m')\n",
    "\n",
    "tmd_q1 = tmd_q1.explode('genres')"
   ]
  },
  {
   "cell_type": "code",
   "execution_count": 31,
   "id": "5db90495",
   "metadata": {},
   "outputs": [
    {
     "name": "stdout",
     "output_type": "stream",
     "text": [
      "\u001b[1mThe row index are reset.\u001b[0m\n"
     ]
    }
   ],
   "source": [
    "# reset the row index numbering \n",
    "\n",
    "print('\\033[1m' + 'The row index are reset.' + '\\033[0m')\n",
    "\n",
    "tmd_q1.reset_index(drop = True, inplace = True)"
   ]
  },
  {
   "cell_type": "code",
   "execution_count": 32,
   "id": "125e66a0",
   "metadata": {},
   "outputs": [
    {
     "name": "stdout",
     "output_type": "stream",
     "text": [
      "\u001b[4m\u001b[1mFirst five rows of cleaned \"tmd_q1\"\u001b[0m\u001b[0m :\n"
     ]
    },
    {
     "data": {
      "text/html": [
       "<div>\n",
       "<style scoped>\n",
       "    .dataframe tbody tr th:only-of-type {\n",
       "        vertical-align: middle;\n",
       "    }\n",
       "\n",
       "    .dataframe tbody tr th {\n",
       "        vertical-align: top;\n",
       "    }\n",
       "\n",
       "    .dataframe thead th {\n",
       "        text-align: right;\n",
       "    }\n",
       "</style>\n",
       "<table border=\"1\" class=\"dataframe\">\n",
       "  <thead>\n",
       "    <tr style=\"text-align: right;\">\n",
       "      <th></th>\n",
       "      <th>id</th>\n",
       "      <th>popularity</th>\n",
       "      <th>original_title</th>\n",
       "      <th>genres</th>\n",
       "      <th>release_year</th>\n",
       "    </tr>\n",
       "  </thead>\n",
       "  <tbody>\n",
       "    <tr>\n",
       "      <th>0</th>\n",
       "      <td>135397</td>\n",
       "      <td>32.985763</td>\n",
       "      <td>Jurassic World</td>\n",
       "      <td>Action</td>\n",
       "      <td>2015</td>\n",
       "    </tr>\n",
       "    <tr>\n",
       "      <th>1</th>\n",
       "      <td>135397</td>\n",
       "      <td>32.985763</td>\n",
       "      <td>Jurassic World</td>\n",
       "      <td>Adventure</td>\n",
       "      <td>2015</td>\n",
       "    </tr>\n",
       "    <tr>\n",
       "      <th>2</th>\n",
       "      <td>135397</td>\n",
       "      <td>32.985763</td>\n",
       "      <td>Jurassic World</td>\n",
       "      <td>Science Fiction</td>\n",
       "      <td>2015</td>\n",
       "    </tr>\n",
       "    <tr>\n",
       "      <th>3</th>\n",
       "      <td>135397</td>\n",
       "      <td>32.985763</td>\n",
       "      <td>Jurassic World</td>\n",
       "      <td>Thriller</td>\n",
       "      <td>2015</td>\n",
       "    </tr>\n",
       "    <tr>\n",
       "      <th>4</th>\n",
       "      <td>76341</td>\n",
       "      <td>28.419936</td>\n",
       "      <td>Mad Max: Fury Road</td>\n",
       "      <td>Action</td>\n",
       "      <td>2015</td>\n",
       "    </tr>\n",
       "  </tbody>\n",
       "</table>\n",
       "</div>"
      ],
      "text/plain": [
       "       id  popularity      original_title           genres  release_year\n",
       "0  135397   32.985763      Jurassic World           Action          2015\n",
       "1  135397   32.985763      Jurassic World        Adventure          2015\n",
       "2  135397   32.985763      Jurassic World  Science Fiction          2015\n",
       "3  135397   32.985763      Jurassic World         Thriller          2015\n",
       "4   76341   28.419936  Mad Max: Fury Road           Action          2015"
      ]
     },
     "execution_count": 32,
     "metadata": {},
     "output_type": "execute_result"
    },
    {
     "name": "stdout",
     "output_type": "stream",
     "text": [
      "\u001b[4m\u001b[1mLast five rows of cleaned \"tmd_q1\"\u001b[0m\u001b[0m :\n"
     ]
    },
    {
     "data": {
      "text/html": [
       "<div>\n",
       "<style scoped>\n",
       "    .dataframe tbody tr th:only-of-type {\n",
       "        vertical-align: middle;\n",
       "    }\n",
       "\n",
       "    .dataframe tbody tr th {\n",
       "        vertical-align: top;\n",
       "    }\n",
       "\n",
       "    .dataframe thead th {\n",
       "        text-align: right;\n",
       "    }\n",
       "</style>\n",
       "<table border=\"1\" class=\"dataframe\">\n",
       "  <thead>\n",
       "    <tr style=\"text-align: right;\">\n",
       "      <th></th>\n",
       "      <th>id</th>\n",
       "      <th>popularity</th>\n",
       "      <th>original_title</th>\n",
       "      <th>genres</th>\n",
       "      <th>release_year</th>\n",
       "    </tr>\n",
       "  </thead>\n",
       "  <tbody>\n",
       "    <tr>\n",
       "      <th>26950</th>\n",
       "      <td>39768</td>\n",
       "      <td>0.065141</td>\n",
       "      <td>Beregis Avtomobilya</td>\n",
       "      <td>Mystery</td>\n",
       "      <td>1966</td>\n",
       "    </tr>\n",
       "    <tr>\n",
       "      <th>26951</th>\n",
       "      <td>39768</td>\n",
       "      <td>0.065141</td>\n",
       "      <td>Beregis Avtomobilya</td>\n",
       "      <td>Comedy</td>\n",
       "      <td>1966</td>\n",
       "    </tr>\n",
       "    <tr>\n",
       "      <th>26952</th>\n",
       "      <td>21449</td>\n",
       "      <td>0.064317</td>\n",
       "      <td>What's Up, Tiger Lily?</td>\n",
       "      <td>Action</td>\n",
       "      <td>1966</td>\n",
       "    </tr>\n",
       "    <tr>\n",
       "      <th>26953</th>\n",
       "      <td>21449</td>\n",
       "      <td>0.064317</td>\n",
       "      <td>What's Up, Tiger Lily?</td>\n",
       "      <td>Comedy</td>\n",
       "      <td>1966</td>\n",
       "    </tr>\n",
       "    <tr>\n",
       "      <th>26954</th>\n",
       "      <td>22293</td>\n",
       "      <td>0.035919</td>\n",
       "      <td>Manos: The Hands of Fate</td>\n",
       "      <td>Horror</td>\n",
       "      <td>1966</td>\n",
       "    </tr>\n",
       "  </tbody>\n",
       "</table>\n",
       "</div>"
      ],
      "text/plain": [
       "          id  popularity            original_title   genres  release_year\n",
       "26950  39768    0.065141       Beregis Avtomobilya  Mystery          1966\n",
       "26951  39768    0.065141       Beregis Avtomobilya   Comedy          1966\n",
       "26952  21449    0.064317    What's Up, Tiger Lily?   Action          1966\n",
       "26953  21449    0.064317    What's Up, Tiger Lily?   Comedy          1966\n",
       "26954  22293    0.035919  Manos: The Hands of Fate   Horror          1966"
      ]
     },
     "execution_count": 32,
     "metadata": {},
     "output_type": "execute_result"
    }
   ],
   "source": [
    "# first and last five rows of cleaned \"tmd_q1\"\n",
    "\n",
    "print('\\033[4m' +'\\033[1m' + 'First five rows of cleaned \"tmd_q1\"' + '\\033[0m' + \\\n",
    "      '\\033[0m' + ' :')\n",
    "\n",
    "tmd_q1.head()\n",
    "\n",
    "print('\\033[4m' +'\\033[1m' + 'Last five rows of cleaned \"tmd_q1\"' + '\\033[0m' + \\\n",
    "      '\\033[0m' + ' :')\n",
    "\n",
    "tmd_q1.tail()"
   ]
  },
  {
   "cell_type": "code",
   "execution_count": 33,
   "id": "320ce0bd",
   "metadata": {},
   "outputs": [
    {
     "name": "stdout",
     "output_type": "stream",
     "text": [
      "\u001b[1mSaving cleaned data as a csv file \"tmd_q1_cleaned.csv\" for analysis to answer Q1.\u001b[0m\n"
     ]
    }
   ],
   "source": [
    "# cleaned data for answering Q1 is saved as a csv file \"tmd_q1_cleaned.csv\"\n",
    "\n",
    "print('\\033[1m' + 'Saving cleaned data as a csv file \"tmd_q1_cleaned.csv\" \\\n",
    "for analysis to answer Q1.' + '\\033[0m')\n",
    "\n",
    "tmd_q1.to_csv('tmd_q1_cleaned.csv', index = False)"
   ]
  },
  {
   "cell_type": "markdown",
   "id": "1ed2b89a",
   "metadata": {},
   "source": [
    "### <a id='step5'><font color = magenta><u>Step 5</u>:</font></a> Create another new dataframe (\"tmd_q2\") from the original dataframe (\"tmd\"); and clean it for analysis to answer Q2."
   ]
  },
  {
   "cell_type": "code",
   "execution_count": 34,
   "id": "faa78b94",
   "metadata": {
    "scrolled": true
   },
   "outputs": [
    {
     "name": "stdout",
     "output_type": "stream",
     "text": [
      "\u001b[4m\u001b[1mIndex and name of columns in \"tmd_q2\"\u001b[0m\u001b[0m :\n",
      "0 id\n",
      "1 imdb_id\n",
      "2 popularity\n",
      "3 budget\n",
      "4 revenue\n",
      "5 original_title\n",
      "6 cast\n",
      "7 homepage\n",
      "8 director\n",
      "9 tagline\n",
      "10 keywords\n",
      "11 overview\n",
      "12 runtime\n",
      "13 genres\n",
      "14 production_companies\n",
      "15 release_date\n",
      "16 vote_count\n",
      "17 vote_average\n",
      "18 release_year\n",
      "19 budget_adj\n",
      "20 revenue_adj\n"
     ]
    }
   ],
   "source": [
    "# display column index and name of \"tmd_q2\"\n",
    "\n",
    "print('\\033[4m' +'\\033[1m' + 'Index and name of columns in \"tmd_q2\"' + \\\n",
    "      '\\033[0m' + '\\033[0m' + ' :')\n",
    "\n",
    "for (i, j) in enumerate(tmd.columns):\n",
    "    print(i, j)"
   ]
  },
  {
   "cell_type": "code",
   "execution_count": 35,
   "id": "afdf5102",
   "metadata": {},
   "outputs": [
    {
     "name": "stdout",
     "output_type": "stream",
     "text": [
      "\u001b[1mRelevant columns from \"tmd\" are copied to create the new dataframe \"tmd_q2\"\u001b[0m\n"
     ]
    }
   ],
   "source": [
    "# use the column index to copy relevant columns into a new dataframe \"tmd_q2\"\n",
    "\n",
    "print('\\033[1m' + 'Relevant columns from \"tmd\" are copied to create the \\\n",
    "new dataframe \"tmd_q2\"' + '\\033[0m')\n",
    "\n",
    "tmd_q2 = tmd.iloc[:,np.r_[0, 2, 5, 6, 8, 12:21]].copy()"
   ]
  },
  {
   "cell_type": "code",
   "execution_count": 36,
   "id": "5da52df0",
   "metadata": {
    "scrolled": true
   },
   "outputs": [
    {
     "name": "stdout",
     "output_type": "stream",
     "text": [
      "\u001b[4m\u001b[1mFirst three rows of \"tmd_q2\"\u001b[0m\u001b[0m :\n"
     ]
    },
    {
     "data": {
      "text/html": [
       "<div>\n",
       "<style scoped>\n",
       "    .dataframe tbody tr th:only-of-type {\n",
       "        vertical-align: middle;\n",
       "    }\n",
       "\n",
       "    .dataframe tbody tr th {\n",
       "        vertical-align: top;\n",
       "    }\n",
       "\n",
       "    .dataframe thead th {\n",
       "        text-align: right;\n",
       "    }\n",
       "</style>\n",
       "<table border=\"1\" class=\"dataframe\">\n",
       "  <thead>\n",
       "    <tr style=\"text-align: right;\">\n",
       "      <th></th>\n",
       "      <th>id</th>\n",
       "      <th>popularity</th>\n",
       "      <th>original_title</th>\n",
       "      <th>cast</th>\n",
       "      <th>director</th>\n",
       "      <th>runtime</th>\n",
       "      <th>genres</th>\n",
       "      <th>production_companies</th>\n",
       "      <th>release_date</th>\n",
       "      <th>vote_count</th>\n",
       "      <th>vote_average</th>\n",
       "      <th>release_year</th>\n",
       "      <th>budget_adj</th>\n",
       "      <th>revenue_adj</th>\n",
       "    </tr>\n",
       "  </thead>\n",
       "  <tbody>\n",
       "    <tr>\n",
       "      <th>0</th>\n",
       "      <td>135397</td>\n",
       "      <td>32.985763</td>\n",
       "      <td>Jurassic World</td>\n",
       "      <td>Chris Pratt|Bryce Dallas Howard|Irrfan Khan|Vi...</td>\n",
       "      <td>Colin Trevorrow</td>\n",
       "      <td>124</td>\n",
       "      <td>Action|Adventure|Science Fiction|Thriller</td>\n",
       "      <td>Universal Studios|Amblin Entertainment|Legenda...</td>\n",
       "      <td>6/9/15</td>\n",
       "      <td>5562</td>\n",
       "      <td>6.5</td>\n",
       "      <td>2015</td>\n",
       "      <td>1.379999e+08</td>\n",
       "      <td>1.392446e+09</td>\n",
       "    </tr>\n",
       "    <tr>\n",
       "      <th>1</th>\n",
       "      <td>76341</td>\n",
       "      <td>28.419936</td>\n",
       "      <td>Mad Max: Fury Road</td>\n",
       "      <td>Tom Hardy|Charlize Theron|Hugh Keays-Byrne|Nic...</td>\n",
       "      <td>George Miller</td>\n",
       "      <td>120</td>\n",
       "      <td>Action|Adventure|Science Fiction|Thriller</td>\n",
       "      <td>Village Roadshow Pictures|Kennedy Miller Produ...</td>\n",
       "      <td>5/13/15</td>\n",
       "      <td>6185</td>\n",
       "      <td>7.1</td>\n",
       "      <td>2015</td>\n",
       "      <td>1.379999e+08</td>\n",
       "      <td>3.481613e+08</td>\n",
       "    </tr>\n",
       "    <tr>\n",
       "      <th>2</th>\n",
       "      <td>262500</td>\n",
       "      <td>13.112507</td>\n",
       "      <td>Insurgent</td>\n",
       "      <td>Shailene Woodley|Theo James|Kate Winslet|Ansel...</td>\n",
       "      <td>Robert Schwentke</td>\n",
       "      <td>119</td>\n",
       "      <td>Adventure|Science Fiction|Thriller</td>\n",
       "      <td>Summit Entertainment|Mandeville Films|Red Wago...</td>\n",
       "      <td>3/18/15</td>\n",
       "      <td>2480</td>\n",
       "      <td>6.3</td>\n",
       "      <td>2015</td>\n",
       "      <td>1.012000e+08</td>\n",
       "      <td>2.716190e+08</td>\n",
       "    </tr>\n",
       "  </tbody>\n",
       "</table>\n",
       "</div>"
      ],
      "text/plain": [
       "       id  popularity      original_title  \\\n",
       "0  135397   32.985763      Jurassic World   \n",
       "1   76341   28.419936  Mad Max: Fury Road   \n",
       "2  262500   13.112507           Insurgent   \n",
       "\n",
       "                                                cast          director  \\\n",
       "0  Chris Pratt|Bryce Dallas Howard|Irrfan Khan|Vi...   Colin Trevorrow   \n",
       "1  Tom Hardy|Charlize Theron|Hugh Keays-Byrne|Nic...     George Miller   \n",
       "2  Shailene Woodley|Theo James|Kate Winslet|Ansel...  Robert Schwentke   \n",
       "\n",
       "   runtime                                     genres  \\\n",
       "0      124  Action|Adventure|Science Fiction|Thriller   \n",
       "1      120  Action|Adventure|Science Fiction|Thriller   \n",
       "2      119         Adventure|Science Fiction|Thriller   \n",
       "\n",
       "                                production_companies release_date  vote_count  \\\n",
       "0  Universal Studios|Amblin Entertainment|Legenda...       6/9/15        5562   \n",
       "1  Village Roadshow Pictures|Kennedy Miller Produ...      5/13/15        6185   \n",
       "2  Summit Entertainment|Mandeville Films|Red Wago...      3/18/15        2480   \n",
       "\n",
       "   vote_average  release_year    budget_adj   revenue_adj  \n",
       "0           6.5          2015  1.379999e+08  1.392446e+09  \n",
       "1           7.1          2015  1.379999e+08  3.481613e+08  \n",
       "2           6.3          2015  1.012000e+08  2.716190e+08  "
      ]
     },
     "execution_count": 36,
     "metadata": {},
     "output_type": "execute_result"
    },
    {
     "name": "stdout",
     "output_type": "stream",
     "text": [
      "\u001b[4m\u001b[1mLast three rows of \"tmd_q2\"\u001b[0m\u001b[0m :\n"
     ]
    },
    {
     "data": {
      "text/html": [
       "<div>\n",
       "<style scoped>\n",
       "    .dataframe tbody tr th:only-of-type {\n",
       "        vertical-align: middle;\n",
       "    }\n",
       "\n",
       "    .dataframe tbody tr th {\n",
       "        vertical-align: top;\n",
       "    }\n",
       "\n",
       "    .dataframe thead th {\n",
       "        text-align: right;\n",
       "    }\n",
       "</style>\n",
       "<table border=\"1\" class=\"dataframe\">\n",
       "  <thead>\n",
       "    <tr style=\"text-align: right;\">\n",
       "      <th></th>\n",
       "      <th>id</th>\n",
       "      <th>popularity</th>\n",
       "      <th>original_title</th>\n",
       "      <th>cast</th>\n",
       "      <th>director</th>\n",
       "      <th>runtime</th>\n",
       "      <th>genres</th>\n",
       "      <th>production_companies</th>\n",
       "      <th>release_date</th>\n",
       "      <th>vote_count</th>\n",
       "      <th>vote_average</th>\n",
       "      <th>release_year</th>\n",
       "      <th>budget_adj</th>\n",
       "      <th>revenue_adj</th>\n",
       "    </tr>\n",
       "  </thead>\n",
       "  <tbody>\n",
       "    <tr>\n",
       "      <th>10862</th>\n",
       "      <td>39768</td>\n",
       "      <td>0.065141</td>\n",
       "      <td>Beregis Avtomobilya</td>\n",
       "      <td>Innokentiy Smoktunovskiy|Oleg Efremov|Georgi Z...</td>\n",
       "      <td>Eldar Ryazanov</td>\n",
       "      <td>94</td>\n",
       "      <td>Mystery|Comedy</td>\n",
       "      <td>Mosfilm</td>\n",
       "      <td>1/1/66</td>\n",
       "      <td>11</td>\n",
       "      <td>6.5</td>\n",
       "      <td>1966</td>\n",
       "      <td>0.000000</td>\n",
       "      <td>0.0</td>\n",
       "    </tr>\n",
       "    <tr>\n",
       "      <th>10863</th>\n",
       "      <td>21449</td>\n",
       "      <td>0.064317</td>\n",
       "      <td>What's Up, Tiger Lily?</td>\n",
       "      <td>Tatsuya Mihashi|Akiko Wakabayashi|Mie Hama|Joh...</td>\n",
       "      <td>Woody Allen</td>\n",
       "      <td>80</td>\n",
       "      <td>Action|Comedy</td>\n",
       "      <td>Benedict Pictures Corp.</td>\n",
       "      <td>11/2/66</td>\n",
       "      <td>22</td>\n",
       "      <td>5.4</td>\n",
       "      <td>1966</td>\n",
       "      <td>0.000000</td>\n",
       "      <td>0.0</td>\n",
       "    </tr>\n",
       "    <tr>\n",
       "      <th>10864</th>\n",
       "      <td>22293</td>\n",
       "      <td>0.035919</td>\n",
       "      <td>Manos: The Hands of Fate</td>\n",
       "      <td>Harold P. Warren|Tom Neyman|John Reynolds|Dian...</td>\n",
       "      <td>Harold P. Warren</td>\n",
       "      <td>74</td>\n",
       "      <td>Horror</td>\n",
       "      <td>Norm-Iris</td>\n",
       "      <td>11/15/66</td>\n",
       "      <td>15</td>\n",
       "      <td>1.5</td>\n",
       "      <td>1966</td>\n",
       "      <td>127642.279154</td>\n",
       "      <td>0.0</td>\n",
       "    </tr>\n",
       "  </tbody>\n",
       "</table>\n",
       "</div>"
      ],
      "text/plain": [
       "          id  popularity            original_title  \\\n",
       "10862  39768    0.065141       Beregis Avtomobilya   \n",
       "10863  21449    0.064317    What's Up, Tiger Lily?   \n",
       "10864  22293    0.035919  Manos: The Hands of Fate   \n",
       "\n",
       "                                                    cast          director  \\\n",
       "10862  Innokentiy Smoktunovskiy|Oleg Efremov|Georgi Z...    Eldar Ryazanov   \n",
       "10863  Tatsuya Mihashi|Akiko Wakabayashi|Mie Hama|Joh...       Woody Allen   \n",
       "10864  Harold P. Warren|Tom Neyman|John Reynolds|Dian...  Harold P. Warren   \n",
       "\n",
       "       runtime          genres     production_companies release_date  \\\n",
       "10862       94  Mystery|Comedy                  Mosfilm       1/1/66   \n",
       "10863       80   Action|Comedy  Benedict Pictures Corp.      11/2/66   \n",
       "10864       74          Horror                Norm-Iris     11/15/66   \n",
       "\n",
       "       vote_count  vote_average  release_year     budget_adj  revenue_adj  \n",
       "10862          11           6.5          1966       0.000000          0.0  \n",
       "10863          22           5.4          1966       0.000000          0.0  \n",
       "10864          15           1.5          1966  127642.279154          0.0  "
      ]
     },
     "execution_count": 36,
     "metadata": {},
     "output_type": "execute_result"
    }
   ],
   "source": [
    "# display the first and last three rows of \"tmd_q2\"\n",
    "\n",
    "print('\\033[4m' +'\\033[1m' + 'First three rows of \"tmd_q2\"' + '\\033[0m' + \\\n",
    "      '\\033[0m' + ' :')\n",
    "\n",
    "tmd_q2.head(3)\n",
    "\n",
    "print('\\033[4m' +'\\033[1m' + 'Last three rows of \"tmd_q2\"' + '\\033[0m' + \\\n",
    "      '\\033[0m' + ' :')\n",
    "\n",
    "tmd_q2.tail(3)"
   ]
  },
  {
   "cell_type": "code",
   "execution_count": 37,
   "id": "7651d7b7",
   "metadata": {},
   "outputs": [
    {
     "name": "stdout",
     "output_type": "stream",
     "text": [
      "\u001b[4m\u001b[1mNumber of null values in each column of \"tmd_q2\"\u001b[0m\u001b[0m :\n"
     ]
    },
    {
     "data": {
      "text/plain": [
       "id                         0\n",
       "popularity                 0\n",
       "original_title             0\n",
       "cast                      76\n",
       "director                  44\n",
       "runtime                    0\n",
       "genres                    23\n",
       "production_companies    1030\n",
       "release_date               0\n",
       "vote_count                 0\n",
       "vote_average               0\n",
       "release_year               0\n",
       "budget_adj                 0\n",
       "revenue_adj                0\n",
       "dtype: int64"
      ]
     },
     "execution_count": 37,
     "metadata": {},
     "output_type": "execute_result"
    }
   ],
   "source": [
    "# display the number of null values in each column of \"tmd_q2\"\n",
    "\n",
    "print('\\033[4m' +'\\033[1m' + 'Number of null values in each column of \\\n",
    "\"tmd_q2\"' + '\\033[0m' + '\\033[0m' + ' :')\n",
    "\n",
    "tmd_q2.isnull().sum()"
   ]
  },
  {
   "cell_type": "code",
   "execution_count": 38,
   "id": "91902c79",
   "metadata": {
    "scrolled": true
   },
   "outputs": [
    {
     "name": "stdout",
     "output_type": "stream",
     "text": [
      "\u001b[4m\u001b[1mNumber of zero values in each column of \"tmd_q2\"\u001b[0m\u001b[0m :\n"
     ]
    },
    {
     "data": {
      "text/plain": [
       "id                         0\n",
       "popularity                 0\n",
       "original_title             0\n",
       "cast                       0\n",
       "director                   0\n",
       "runtime                   31\n",
       "genres                     0\n",
       "production_companies       0\n",
       "release_date               0\n",
       "vote_count                 0\n",
       "vote_average               0\n",
       "release_year               0\n",
       "budget_adj              5696\n",
       "revenue_adj             6016\n",
       "dtype: int64"
      ]
     },
     "execution_count": 38,
     "metadata": {},
     "output_type": "execute_result"
    }
   ],
   "source": [
    "# display the number of zero values in each column of \"tmd_q2\"\n",
    "\n",
    "print('\\033[4m' +'\\033[1m' + 'Number of zero values in each column of \"tmd_q2\"' + \\\n",
    "      '\\033[0m' + '\\033[0m' + ' :')\n",
    "\n",
    "tmd_q2.isin([0]).sum()"
   ]
  },
  {
   "cell_type": "code",
   "execution_count": 39,
   "id": "59a67f5b",
   "metadata": {
    "scrolled": true
   },
   "outputs": [
    {
     "name": "stdout",
     "output_type": "stream",
     "text": [
      "\u001b[4m\u001b[1mRange of row index, column index and name, data type, and number of non-null values in \"tmd_q2\"\u001b[0m\u001b[0m :\n",
      "<class 'pandas.core.frame.DataFrame'>\n",
      "RangeIndex: 10865 entries, 0 to 10864\n",
      "Data columns (total 14 columns):\n",
      " #   Column                Non-Null Count  Dtype  \n",
      "---  ------                --------------  -----  \n",
      " 0   id                    10865 non-null  int64  \n",
      " 1   popularity            10865 non-null  float64\n",
      " 2   original_title        10865 non-null  object \n",
      " 3   cast                  10789 non-null  object \n",
      " 4   director              10821 non-null  object \n",
      " 5   runtime               10865 non-null  int64  \n",
      " 6   genres                10842 non-null  object \n",
      " 7   production_companies  9835 non-null   object \n",
      " 8   release_date          10865 non-null  object \n",
      " 9   vote_count            10865 non-null  int64  \n",
      " 10  vote_average          10865 non-null  float64\n",
      " 11  release_year          10865 non-null  int64  \n",
      " 12  budget_adj            10865 non-null  float64\n",
      " 13  revenue_adj           10865 non-null  float64\n",
      "dtypes: float64(4), int64(4), object(6)\n",
      "memory usage: 1.2+ MB\n"
     ]
    }
   ],
   "source": [
    "# display range of row index, column index and name, data type, and number of non-null values in \"tmd_q2\" \n",
    "\n",
    "print('\\033[4m' + '\\033[1m' + 'Range of row index, column index and name, \\\n",
    "data type, and number of non-null values in \"tmd_q2\"' + '\\033[0m' \\\n",
    "      + '\\033[0m' + ' :')\n",
    "\n",
    "tmd_q2.info()"
   ]
  },
  {
   "cell_type": "code",
   "execution_count": 40,
   "id": "f30d138b",
   "metadata": {
    "scrolled": true
   },
   "outputs": [
    {
     "name": "stdout",
     "output_type": "stream",
     "text": [
      "\u001b[4m\u001b[1mSummary statistics of tmd_q2 is given below\u001b[0m\u001b[0m :\n"
     ]
    },
    {
     "data": {
      "text/html": [
       "<div>\n",
       "<style scoped>\n",
       "    .dataframe tbody tr th:only-of-type {\n",
       "        vertical-align: middle;\n",
       "    }\n",
       "\n",
       "    .dataframe tbody tr th {\n",
       "        vertical-align: top;\n",
       "    }\n",
       "\n",
       "    .dataframe thead th {\n",
       "        text-align: right;\n",
       "    }\n",
       "</style>\n",
       "<table border=\"1\" class=\"dataframe\">\n",
       "  <thead>\n",
       "    <tr style=\"text-align: right;\">\n",
       "      <th></th>\n",
       "      <th>id</th>\n",
       "      <th>popularity</th>\n",
       "      <th>runtime</th>\n",
       "      <th>vote_count</th>\n",
       "      <th>vote_average</th>\n",
       "      <th>release_year</th>\n",
       "      <th>budget_adj</th>\n",
       "      <th>revenue_adj</th>\n",
       "    </tr>\n",
       "  </thead>\n",
       "  <tbody>\n",
       "    <tr>\n",
       "      <th>count</th>\n",
       "      <td>10865.000000</td>\n",
       "      <td>10865.000000</td>\n",
       "      <td>10865.000000</td>\n",
       "      <td>10865.000000</td>\n",
       "      <td>10865.000000</td>\n",
       "      <td>10865.000000</td>\n",
       "      <td>1.086500e+04</td>\n",
       "      <td>1.086500e+04</td>\n",
       "    </tr>\n",
       "    <tr>\n",
       "      <th>mean</th>\n",
       "      <td>66066.374413</td>\n",
       "      <td>0.646446</td>\n",
       "      <td>102.071790</td>\n",
       "      <td>217.399632</td>\n",
       "      <td>5.975012</td>\n",
       "      <td>2001.321859</td>\n",
       "      <td>1.754989e+07</td>\n",
       "      <td>5.136900e+07</td>\n",
       "    </tr>\n",
       "    <tr>\n",
       "      <th>std</th>\n",
       "      <td>92134.091971</td>\n",
       "      <td>1.000231</td>\n",
       "      <td>31.382701</td>\n",
       "      <td>575.644627</td>\n",
       "      <td>0.935138</td>\n",
       "      <td>12.813260</td>\n",
       "      <td>3.430753e+07</td>\n",
       "      <td>1.446383e+08</td>\n",
       "    </tr>\n",
       "    <tr>\n",
       "      <th>min</th>\n",
       "      <td>5.000000</td>\n",
       "      <td>0.000065</td>\n",
       "      <td>0.000000</td>\n",
       "      <td>10.000000</td>\n",
       "      <td>1.500000</td>\n",
       "      <td>1960.000000</td>\n",
       "      <td>0.000000e+00</td>\n",
       "      <td>0.000000e+00</td>\n",
       "    </tr>\n",
       "    <tr>\n",
       "      <th>25%</th>\n",
       "      <td>10596.000000</td>\n",
       "      <td>0.207575</td>\n",
       "      <td>90.000000</td>\n",
       "      <td>17.000000</td>\n",
       "      <td>5.400000</td>\n",
       "      <td>1995.000000</td>\n",
       "      <td>0.000000e+00</td>\n",
       "      <td>0.000000e+00</td>\n",
       "    </tr>\n",
       "    <tr>\n",
       "      <th>50%</th>\n",
       "      <td>20662.000000</td>\n",
       "      <td>0.383831</td>\n",
       "      <td>99.000000</td>\n",
       "      <td>38.000000</td>\n",
       "      <td>6.000000</td>\n",
       "      <td>2006.000000</td>\n",
       "      <td>0.000000e+00</td>\n",
       "      <td>0.000000e+00</td>\n",
       "    </tr>\n",
       "    <tr>\n",
       "      <th>75%</th>\n",
       "      <td>75612.000000</td>\n",
       "      <td>0.713857</td>\n",
       "      <td>111.000000</td>\n",
       "      <td>146.000000</td>\n",
       "      <td>6.600000</td>\n",
       "      <td>2011.000000</td>\n",
       "      <td>2.085325e+07</td>\n",
       "      <td>3.370173e+07</td>\n",
       "    </tr>\n",
       "    <tr>\n",
       "      <th>max</th>\n",
       "      <td>417859.000000</td>\n",
       "      <td>32.985763</td>\n",
       "      <td>900.000000</td>\n",
       "      <td>9767.000000</td>\n",
       "      <td>9.200000</td>\n",
       "      <td>2015.000000</td>\n",
       "      <td>4.250000e+08</td>\n",
       "      <td>2.827124e+09</td>\n",
       "    </tr>\n",
       "  </tbody>\n",
       "</table>\n",
       "</div>"
      ],
      "text/plain": [
       "                  id    popularity       runtime    vote_count  vote_average  \\\n",
       "count   10865.000000  10865.000000  10865.000000  10865.000000  10865.000000   \n",
       "mean    66066.374413      0.646446    102.071790    217.399632      5.975012   \n",
       "std     92134.091971      1.000231     31.382701    575.644627      0.935138   \n",
       "min         5.000000      0.000065      0.000000     10.000000      1.500000   \n",
       "25%     10596.000000      0.207575     90.000000     17.000000      5.400000   \n",
       "50%     20662.000000      0.383831     99.000000     38.000000      6.000000   \n",
       "75%     75612.000000      0.713857    111.000000    146.000000      6.600000   \n",
       "max    417859.000000     32.985763    900.000000   9767.000000      9.200000   \n",
       "\n",
       "       release_year    budget_adj   revenue_adj  \n",
       "count  10865.000000  1.086500e+04  1.086500e+04  \n",
       "mean    2001.321859  1.754989e+07  5.136900e+07  \n",
       "std       12.813260  3.430753e+07  1.446383e+08  \n",
       "min     1960.000000  0.000000e+00  0.000000e+00  \n",
       "25%     1995.000000  0.000000e+00  0.000000e+00  \n",
       "50%     2006.000000  0.000000e+00  0.000000e+00  \n",
       "75%     2011.000000  2.085325e+07  3.370173e+07  \n",
       "max     2015.000000  4.250000e+08  2.827124e+09  "
      ]
     },
     "execution_count": 40,
     "metadata": {},
     "output_type": "execute_result"
    }
   ],
   "source": [
    "# display summary statistics of \"tmd_q2\"\n",
    "\n",
    "print('\\033[4m' + '\\033[1m' + 'Summary statistics of tmd_q2 is given below' \\\n",
    "      + '\\033[0m' + '\\033[0m' + ' :')\n",
    "\n",
    "tmd_q2.describe()"
   ]
  },
  {
   "cell_type": "markdown",
   "id": "6dab9286",
   "metadata": {},
   "source": [
    "### <font color = magenta><u>Observation 3</u></font> :\n",
    "\n",
    "### <font color = magenta>3.1</font> In order to answer question 2 (<font color = magenta>Q2. What characteristics distinguish the top 10% profitable movies (all time) from the bottom 10%?</font>), relationship between a (new) derived variable \"profit_percentage\"  ( =  (\"revenue_adj\" - \"budget_adj\") / \"budget_adj\") and the other column variables should be studied.\n",
    "### <font color = magenta>3.2</font> There are a large number of zero values in columns \"budget_adj\" and \"revenue_adj\". As there is always a non-zero cost associated with movie-making, rows with zero values in the \"budget_adj\" column should definitely be removed. Though highly unlikely, values in \"revenue_adj\" column can be zero. However, here we will remove rows with zero value in either \"budget_adj\" or \"revenue_adj\". \n",
    "### <font color = magenta>3.3</font> The column \"runtime\" also contain few zero values. This should only be handled after removing rows with zeros in \"budget_adj\" and \"revenue_adj\" (if at all \"runtime\" still contains zero values after removing large number of rows as discussed in 3.2 !).\n",
    "### <font color = magenta>3.4</font> There are no null values in \"budget_adj\" and \"revenue_adj\" columns. Rows with null values in other columns should not be removed immediately, as it can cause lose of non-null values (from other columns in the corresponding rows) which will be useful for analysis. Rather, we will remove them individually, if needed, while analysing relationship between profit and such column variables. (again, only if such cases still exist after removing large number of rows as discussed in 3.2 ! )"
   ]
  }
 ],
 "metadata": {
  "kernelspec": {
   "display_name": "Python 3 (ipykernel)",
   "language": "python",
   "name": "python3"
  },
  "language_info": {
   "codemirror_mode": {
    "name": "ipython",
    "version": 3
   },
   "file_extension": ".py",
   "mimetype": "text/x-python",
   "name": "python",
   "nbconvert_exporter": "python",
   "pygments_lexer": "ipython3",
   "version": "3.9.13"
  }
 },
 "nbformat": 4,
 "nbformat_minor": 5
}
